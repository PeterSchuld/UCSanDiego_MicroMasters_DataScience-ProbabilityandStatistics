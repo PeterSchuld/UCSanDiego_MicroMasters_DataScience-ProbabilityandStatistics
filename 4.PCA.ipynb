{
 "cells": [
  {
   "cell_type": "markdown",
   "metadata": {
    "slideshow": {
     "slide_type": "slide"
    }
   },
   "source": [
    "# Principle components analysis"
   ]
  },
  {
   "cell_type": "code",
   "execution_count": null,
   "metadata": {
    "slideshow": {
     "slide_type": "skip"
    }
   },
   "outputs": [],
   "source": [
    "%pylab inline\n",
    "import pandas as pd\n",
    "from numpy import arange,array,ones,linalg"
   ]
  },
  {
   "cell_type": "markdown",
   "metadata": {
    "slideshow": {
     "slide_type": "subslide"
    }
   },
   "source": [
    "## Small example\n",
    "Suppose we have 9 points on the plane, defined by their $(x,y)$ coordinates"
   ]
  },
  {
   "cell_type": "code",
   "execution_count": null,
   "metadata": {
    "scrolled": true,
    "slideshow": {
     "slide_type": "subslide"
    }
   },
   "outputs": [],
   "source": [
    "x = arange(0,9)\n",
    "y = [21, 19, 23, 21, 25, 22, 25, 23, 24]\n",
    "plot(x,y,'bo');"
   ]
  },
  {
   "cell_type": "markdown",
   "metadata": {
    "slideshow": {
     "slide_type": "subslide"
    }
   },
   "source": [
    "* These points are close to a straight line trending upwoards. We would like to find that line. "
   ]
  },
  {
   "cell_type": "markdown",
   "metadata": {
    "slideshow": {
     "slide_type": "fragment"
    }
   },
   "source": [
    "* The line is described by a function of the form: $f_{w_0,w_1}(x) \\doteq w_0+w_1 x$"
   ]
  },
  {
   "cell_type": "markdown",
   "metadata": {
    "slideshow": {
     "slide_type": "subslide"
    }
   },
   "source": [
    "* our goal is to find $w_0$ and $w_1$."
   ]
  },
  {
   "cell_type": "markdown",
   "metadata": {
    "slideshow": {
     "slide_type": "fragment"
    }
   },
   "source": [
    "* In a previous notabooke we saw how to find a line that passes through 2 points."
   ]
  },
  {
   "cell_type": "markdown",
   "metadata": {
    "slideshow": {
     "slide_type": "fragment"
    }
   },
   "source": [
    "* As here we have more than two points the system is **overconstrained** - there is no straight line that passes through all of the points."
   ]
  },
  {
   "cell_type": "markdown",
   "metadata": {
    "slideshow": {
     "slide_type": "fragment"
    }
   },
   "source": [
    "* The points do not fall **exactly** on a line. So we are looking for $w_0,w_1$ \n",
    "such that the line is **closest** to the points."
   ]
  },
  {
   "cell_type": "markdown",
   "metadata": {
    "slideshow": {
     "slide_type": "subslide"
    }
   },
   "source": [
    "We define the **Square difference** between the line $(w_0,w_1)$ and the points\n",
    "$\\langle (x_1,y_1),(x_2,y_2),\\ldots,(x_n,y_n) \\rangle$ to be \n",
    "$$\\sum_{i=1}^n [f_{w_0,w_1}(x_i)-y_i]^2$$\n",
    "(In our example $n=9$)"
   ]
  },
  {
   "cell_type": "markdown",
   "metadata": {
    "slideshow": {
     "slide_type": "fragment"
    }
   },
   "source": [
    "The values of $w_0,w_1$ which minimize the square difference, are called the **least squares** solution."
   ]
  },
  {
   "cell_type": "markdown",
   "metadata": {
    "slideshow": {
     "slide_type": "slide"
    }
   },
   "source": [
    "We use `numpy.linalg` to find the minimum. "
   ]
  },
  {
   "cell_type": "markdown",
   "metadata": {
    "slideshow": {
     "slide_type": "subslide"
    }
   },
   "source": [
    "To define the problem for `numpy.linalg` we use matrix notation. We define ${\\bf A}$ to be the $n$ by $2$ matrix:\n",
    "$${\\bf A} =  \\begin{pmatrix}\n",
    " 1, x_1\\\\\n",
    " \\vdots\\\\\n",
    " 1, x_n\n",
    " \\end{pmatrix} \n",
    "$$"
   ]
  },
  {
   "cell_type": "markdown",
   "metadata": {
    "slideshow": {
     "slide_type": "fragment"
    }
   },
   "source": [
    " ${\\bf y}$ and ${\\bf w}$ to be column vectors:\n",
    " $${\\bf y} =  \\begin{pmatrix}\n",
    " y_1\\\\\n",
    " \\vdots\\\\\n",
    " y_n\n",
    " \\end{pmatrix} \n",
    " ,\\;\\;\\;\\;\n",
    " {\\bf w} = \\begin{pmatrix}\n",
    " w_0\\\\\n",
    " w_1\n",
    " \\end{pmatrix}\n",
    "$$"
   ]
  },
  {
   "cell_type": "markdown",
   "metadata": {
    "slideshow": {
     "slide_type": "slide"
    }
   },
   "source": [
    "We can then express the differences as a vector ${\\bf d}$:\n",
    "$$ {\\bf d} = {\\bf A} {\\bf w} - {\\bf y} $$"
   ]
  },
  {
   "cell_type": "markdown",
   "metadata": {
    "slideshow": {
     "slide_type": "fragment"
    }
   },
   "source": [
    "The square difference, that we wish to minimize, is $\\|{\\bf d}\\|_2^2 = \\sum_{i=1}^n d_i^2$"
   ]
  },
  {
   "cell_type": "code",
   "execution_count": null,
   "metadata": {
    "collapsed": true
   },
   "outputs": [],
   "source": [
    "A = array([ ones(9),x ])\n",
    "# linearly generated sequence\n",
    "w = linalg.lstsq(A.T,y)[0] # obtaining the parameters"
   ]
  },
  {
   "cell_type": "code",
   "execution_count": null,
   "metadata": {},
   "outputs": [],
   "source": [
    "A = array(list(zip(x,y)))\n",
    "\n",
    "def PCA(A):\n",
    "    Mean= mean(A.T,axis=1) # Compute the location of the mean.\n",
    "    M = (A-Mean).T # subtract the mean (along columns)\n",
    "    [eigvals,eigvecs] = linalg.eig(cov(M))\n",
    "    order=argsort(eigvals)[-1::-1] # ordering vectors so that eigen-values decreasing order\n",
    "    print('order=',order)\n",
    "    eigvals=eigvals[order]\n",
    "    eigvecs=eigvecs[:,order]\n",
    "    eigvecs=eigvecs.T\n",
    "    return Mean,eigvals,eigvecs\n",
    "\n",
    "Mean,eigvals,eigvecs = PCA(A)\n",
    "print('Mean=',Mean)\n",
    "print('eigvals=',eigvals)\n",
    "print('eigvecs=\\n',eigvecs)\n"
   ]
  },
  {
   "cell_type": "code",
   "execution_count": null,
   "metadata": {
    "collapsed": true
   },
   "outputs": [],
   "source": [
    "def project(x,u):\n",
    "    return Mean+(x-Mean).dot(u)*u\n",
    "project(A[3],eigvecs[0,:])\n",
    "\n",
    "def plot_PCA(x,y,Mean,eigvecs,eigvals,marker='o',markersize=5):\n",
    "    plot(x,y,marker,markersize=markersize);\n",
    "    plot(Mean[0],Mean[1],'kX',markersize=20);\n",
    "    colors=['r','m']\n",
    "    for i in range(2):\n",
    "        principle=eigvecs[i,:]\n",
    "        std=sqrt(eigvals[i])*2\n",
    "        p1=Mean-principle*std\n",
    "        p2=Mean+principle*std\n",
    "        plot([p1[0],p2[0]],[p1[1],p2[1]],colors[i])\n",
    "\n",
    "def plot_projections(A,eigvecs):\n",
    "    for i in range(A.shape[0]):\n",
    "        pt=A[i,:]\n",
    "        proj=project(pt,eigvecs[0,:])\n",
    "        plot([pt[0],proj[0]],[pt[1],proj[1]],'g')\n",
    "def plot_regress_projections(x,y,w):\n",
    "    line = w[0]+w[1]*x # regression line\n",
    "    plot(x,line,'k-')\n",
    "\n",
    "    for i in range(len(x)):\n",
    "        plot([x[i],x[i]],[y[i],w[1]*x[i]+w[0]],'y')   \n",
    "\n"
   ]
  },
  {
   "cell_type": "code",
   "execution_count": null,
   "metadata": {},
   "outputs": [],
   "source": [
    "#plotting data and mean\n",
    "figure(figsize=[10,8])\n",
    "plot_PCA(x,y,Mean,eigvecs,eigvals)\n",
    "plot_projections(A,eigvecs)\n",
    "plot_regress_projections(x,y,w)\n",
    "plt.axis('equal')\n",
    "grid()"
   ]
  },
  {
   "cell_type": "markdown",
   "metadata": {
    "slideshow": {
     "slide_type": "slide"
    }
   },
   "source": [
    "## A real-life example\n",
    "We now turn our attention to the analysis of some real-word data. This data describes  the weight and height of some 25,000 people."
   ]
  },
  {
   "cell_type": "markdown",
   "metadata": {
    "slideshow": {
     "slide_type": "skip"
    }
   },
   "source": [
    "Weight/Weight data downloaded from [here](https://people.sc.fsu.edu/~jburkardt/data/csv/csv.html)"
   ]
  },
  {
   "cell_type": "code",
   "execution_count": null,
   "metadata": {
    "slideshow": {
     "slide_type": "subslide"
    }
   },
   "outputs": [],
   "source": [
    "HW=pd.read_csv('data/HW25000.csv')\n",
    "HW=HW.iloc[:,1:]\n",
    "HW.columns=['Height','Weight']\n",
    "HW.head()\n"
   ]
  },
  {
   "cell_type": "code",
   "execution_count": null,
   "metadata": {
    "collapsed": true
   },
   "outputs": [],
   "source": [
    "from math import sin,cos\n",
    "def rotate(data,theta):\n",
    "    Mean= mean(data.T,axis=1)\n",
    "    M=np.array([[cos(theta),-sin(theta)],[sin(theta),cos(theta)]])\n",
    "    return (data-Mean).dot(M.T)+Mean\n"
   ]
  },
  {
   "cell_type": "code",
   "execution_count": null,
   "metadata": {
    "scrolled": false
   },
   "outputs": [],
   "source": [
    "_array=rotate(np.array(HW),0)\n",
    "Mean,eigvals,eigvecs = PCA(_array)\n",
    "print('Mean=',Mean)\n",
    "print('eigvals=',eigvals)\n",
    "print('eigvecs=\\n',eigvecs)\n",
    "\n",
    "print(_array[0,:])"
   ]
  },
  {
   "cell_type": "code",
   "execution_count": null,
   "metadata": {},
   "outputs": [],
   "source": [
    "eigvecs"
   ]
  },
  {
   "cell_type": "code",
   "execution_count": null,
   "metadata": {},
   "outputs": [],
   "source": [
    "#plotting \n",
    "figure(figsize=[10,10])\n",
    "subplot(221)\n",
    "plot_PCA(_array[:,0],_array[:,1],Mean,eigvecs,eigvals,marker='.',markersize=1)\n",
    "plt.axis('equal')\n",
    "plt.title('original data')\n",
    "grid()\n",
    "\n",
    "_shifted = _array-Mean\n",
    "subplot(222)\n",
    "plot_PCA(_shifted[:,0],_shifted[:,1],np.array([0,0]),eigvecs,eigvals,marker='.',markersize=1)\n",
    "plt.axis('equal')\n",
    "plt.title('Mean shifted to zero')\n",
    "grid()\n",
    "\n",
    "_rotated=_shifted.dot(eigvecs.T)\n",
    "subplot(223)\n",
    "plot_PCA(_rotated[:,0],_rotated[:,1],np.array([0,0]),np.array([[1,0],[0,1]]),\\\n",
    "         eigvals,marker='.',markersize=1)\n",
    "plt.axis('equal')\n",
    "plt.title('rotated to major axis')\n",
    "grid()\n",
    "\n",
    "\n"
   ]
  },
  {
   "cell_type": "markdown",
   "metadata": {},
   "source": [
    "### PCA in 2D and computer vision.\n",
    "Sometimes it makes sense to approximate small regions, or \"blobs\" using ellipses.\n",
    "\n",
    "PCA provides  a simple and efficient way for doing that.\n"
   ]
  },
  {
   "cell_type": "code",
   "execution_count": null,
   "metadata": {},
   "outputs": [],
   "source": [
    "n=100\n",
    "image=np.zeros([n,n])\n",
    "theta=pi/7\n",
    "scale_x=0.2\n",
    "scale_y=1\n",
    "Scale=np.array([[scale_x,0],[0,scale_y]])\n",
    "M=np.array([[cos(theta),-sin(theta)],[sin(theta),cos(theta)]])\n",
    "P=M.dot(Scale)\n",
    "for i in arange(-n/2,n/2,.5):\n",
    "    for j in arange(-n/2,n/2,.5):\n",
    "        if max(abs(i),abs(j))<30:\n",
    "            v=np.array([i,j])\n",
    "            s=P.dot(v)+np.array([n/2,n/2])\n",
    "            x,y=[int(a) for a in s]\n",
    "            image[x,y]=1\n",
    "imshow(image)"
   ]
  },
  {
   "cell_type": "code",
   "execution_count": null,
   "metadata": {},
   "outputs": [],
   "source": [
    "nz=np.array(nonzero(image))\n",
    "shape(nz)"
   ]
  },
  {
   "cell_type": "code",
   "execution_count": null,
   "metadata": {},
   "outputs": [],
   "source": [
    "Mean,eigvals,eigvecs = PCA(nz.T)\n",
    "print('Mean=',Mean)\n",
    "print('eigvals=',eigvals)\n",
    "print('eigvecs=\\n',eigvecs)\n"
   ]
  },
  {
   "cell_type": "code",
   "execution_count": null,
   "metadata": {},
   "outputs": [],
   "source": [
    "figure(figsize=[10,10])\n",
    "plot_PCA(nz[0,:],nz[1,:],Mean,eigvecs,eigvals,marker='.',markersize=1)\n",
    "plt.axis('equal')\n",
    "plt.title('original data')\n",
    "grid()\n"
   ]
  }
 ],
 "metadata": {
  "celltoolbar": "Slideshow",
  "kernelspec": {
   "display_name": "Python [default]",
   "language": "python",
   "name": "python3"
  },
  "language_info": {
   "codemirror_mode": {
    "name": "ipython",
    "version": 3
   },
   "file_extension": ".py",
   "mimetype": "text/x-python",
   "name": "python",
   "nbconvert_exporter": "python",
   "pygments_lexer": "ipython3",
   "version": "3.6.2"
  },
  "toc": {
   "base_numbering": 1,
   "nav_menu": {
    "height": "67px",
    "width": "252px"
   },
   "number_sections": true,
   "sideBar": true,
   "skip_h1_title": false,
   "title_cell": "Table of Contents",
   "title_sidebar": "Contents",
   "toc_cell": false,
   "toc_position": {},
   "toc_section_display": "block",
   "toc_window_display": true
  },
  "varInspector": {
   "cols": {
    "lenName": 16,
    "lenType": 16,
    "lenVar": 40
   },
   "kernels_config": {
    "python": {
     "delete_cmd_postfix": "",
     "delete_cmd_prefix": "del ",
     "library": "var_list.py",
     "varRefreshCmd": "print(var_dic_list())"
    },
    "r": {
     "delete_cmd_postfix": ") ",
     "delete_cmd_prefix": "rm(",
     "library": "var_list.r",
     "varRefreshCmd": "cat(var_dic_list()) "
    }
   },
   "types_to_exclude": [
    "module",
    "function",
    "builtin_function_or_method",
    "instance",
    "_Feature"
   ],
   "window_display": false
  }
 },
 "nbformat": 4,
 "nbformat_minor": 2
}
