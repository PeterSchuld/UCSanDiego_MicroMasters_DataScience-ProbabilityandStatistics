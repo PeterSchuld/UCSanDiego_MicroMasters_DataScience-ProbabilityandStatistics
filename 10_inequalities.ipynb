{
 "cells": [
  {
   "cell_type": "markdown",
   "metadata": {},
   "source": [
    "## Inequalities"
   ]
  },
  {
   "cell_type": "markdown",
   "metadata": {},
   "source": [
    "The following code plots Markov's and Chebyshev's inequalities. First import pylab, which in turn will import numpy and matplotlib."
   ]
  },
  {
   "cell_type": "code",
   "execution_count": 1,
   "metadata": {
    "scrolled": true
   },
   "outputs": [
    {
     "name": "stdout",
     "output_type": "stream",
     "text": [
      "Populating the interactive namespace from numpy and matplotlib\n"
     ]
    }
   ],
   "source": [
    "%pylab inline\n",
    "import ipywidgets as widgets"
   ]
  },
  {
   "cell_type": "markdown",
   "metadata": {},
   "source": [
    "Next plot the Markov and Chebyshev bounds. "
   ]
  },
  {
   "cell_type": "code",
   "execution_count": 2,
   "metadata": {},
   "outputs": [],
   "source": [
    "def plot_markov_chebyshev(mu, sig):\n",
    "\n",
    "    a_min = mu\n",
    "    a_max = min(mu*20,sig*10)\n",
    "\n",
    "    a = np.linspace(a_min, a_max, 10001)\n",
    "    plt.plot(a, mu/a, 'b', linewidth=3.0, label='Markov $\\mu/a$')\n",
    "\n",
    "    b_min = mu+sig\n",
    "    b = np.linspace(b_min, a_max, 10001)\n",
    "    plt.plot(b, (sig/(b-mu))**2, 'r', linewidth=3.0, label='Chebyshev $(a-\\mu)/\\sigma^2$')\n",
    "    plt.plot([mu,mu],[0,1.1])\n",
    "    plt.plot([mu+sig,mu+sig],[0,1.1],'r')\n",
    "    plt.legend(fontsize = 30)\n",
    "\n",
    "    plt.title('Markov and Chebyshev bounds on $P(X\\geq a)$ for $\\mu=$%0.1f and $\\sigma=$%0.1f' %(mu,sig), fontsize = 20)\n",
    "    plt.grid()\n",
    "  \n",
    "    xticks_array = np.concatenate((np.linspace(mu, np.ceil(a_max/mu)*mu, int(np.ceil(a_max/mu))), np.array([0, mu+sig])))\n",
    "    #xticks_array=[0,μ+σ]+xticks_array\n",
    "    plt.xticks(xticks_array, fontsize = 16)\n",
    "    plt.yticks(np.linspace(0.2, 1, 5), fontsize = 16)\n",
    "    plt.xlabel('a', fontsize = 20)\n",
    "    plt.ylabel('Probability bounds', fontsize = 20)\n",
    "    plt.gcf().set_size_inches(16,8)\n",
    "    plt.gca().set_xlim([0, a_max])\n",
    "    plt.gca().set_ylim([0,1.1])\n",
    "    plt.show()"
   ]
  },
  {
   "cell_type": "markdown",
   "metadata": {},
   "source": [
    "Finally, interactive widgets to let you control the mean and standard deviation. Observe that \n",
    "for $a$ close to the mean, Markov's inequality is stronger, but as $a$ grows, Chebyshev's inequality decreases quadratically and becomes stronger.  "
   ]
  },
  {
   "cell_type": "code",
   "execution_count": 3,
   "metadata": {},
   "outputs": [
    {
     "data": {
      "application/vnd.jupyter.widget-view+json": {
       "model_id": "46760d03186842f3a64506eb2cf080ee",
       "version_major": 2,
       "version_minor": 0
      },
      "text/html": [
       "<p>Failed to display Jupyter Widget of type <code>interactive</code>.</p>\n",
       "<p>\n",
       "  If you're reading this message in the Jupyter Notebook or JupyterLab Notebook, it may mean\n",
       "  that the widgets JavaScript is still loading. If this message persists, it\n",
       "  likely means that the widgets JavaScript library is either not installed or\n",
       "  not enabled. See the <a href=\"https://ipywidgets.readthedocs.io/en/stable/user_install.html\">Jupyter\n",
       "  Widgets Documentation</a> for setup instructions.\n",
       "</p>\n",
       "<p>\n",
       "  If you're reading this message in another frontend (for example, a static\n",
       "  rendering on GitHub or <a href=\"https://nbviewer.jupyter.org/\">NBViewer</a>),\n",
       "  it may mean that your frontend doesn't currently support widgets.\n",
       "</p>\n"
      ],
      "text/plain": [
       "interactive(children=(FloatSlider(value=8.0, continuous_update=False, description='$\\\\mu$', max=20.0, min=0.5), FloatSlider(value=5.0, continuous_update=False, description='$\\\\sigma$', max=20.0, min=0.5), Output()), _dom_classes=('widget-interact',))"
      ]
     },
     "metadata": {},
     "output_type": "display_data"
    },
    {
     "data": {
      "text/plain": [
       "<function __main__.plot_markov_chebyshev>"
      ]
     },
     "execution_count": 3,
     "metadata": {},
     "output_type": "execute_result"
    }
   ],
   "source": [
    "widgets.interact(plot_markov_chebyshev, mu=widgets.FloatSlider(description = '$\\mu$', min=0.5, max=20, step=0.1, value=8, continuous_update = False), \n",
    "sig=widgets.FloatSlider(description = '$\\sigma$', min=0.5, max=20, step=0.1, value=5, continuous_update = False))"
   ]
  },
  {
   "cell_type": "markdown",
   "metadata": {},
   "source": [
    "## Law of Large Numbers"
   ]
  },
  {
   "cell_type": "markdown",
   "metadata": {},
   "source": [
    "We demonstrate the Law of Large Numbers by plotting the distribution of sample means.\n",
    "\n",
    "The following code calculates and plots the probability distribution  function (PDF) of the sample mean\n",
    "$$\\overline{X}_n=\\frac{1}{n}\\sum_{i=1}^n X_i.$$"
   ]
  },
  {
   "cell_type": "markdown",
   "metadata": {},
   "source": [
    "### Uniform distributions\n",
    "\n",
    "The $X_i$ follow an i.i.d. uniform distribution on interval $[a,b]$\n",
    "$$f_{X_i}(x)=\\begin{cases}\n",
    "\\frac{1}{b-a} & a\\le x\\le b\\\\\n",
    "0 & \\text{otherwise}\n",
    "\\end{cases}$$"
   ]
  },
  {
   "cell_type": "code",
   "execution_count": 4,
   "metadata": {
    "scrolled": true
   },
   "outputs": [],
   "source": [
    "# Generate the sample mean of k uniform distribution on [a,b], repeat that n times\n",
    "def generate_uniform_counts(a,b,k,n):\n",
    "    X= random.uniform(a,b,[k,n])  # generate a k by n matrix of uniform random numbers\n",
    "    S=sum(X,axis=0)/k\n",
    "    return S\n",
    "\n",
    "def uniform_plot_hist(s,k,h):\n",
    "    a=s[0]\n",
    "    b=s[1]\n",
    "    if h>0:\n",
    "        n=h\n",
    "        counts=generate_uniform_counts(a,b,k,n)\n",
    "        hist(counts,bins=30,normed=1);\n",
    "        xlim([0,10])\n",
    "        plot([(a+b)/2, (a+b)/2], [0, 1], 'g--', linewidth = 2.0)\n",
    "    #title('Histogram of $\\overline{X}_n$ with n=%d and s=%d'%(k,n), fontsize = 20)\n",
    "    #xlabel('$x_n$', fontsize = 20)\n",
    "    #ylabel('$frquency$', fontsize = 20)\n",
    "\n",
    "# plot the pdf of 1/n(\\sum_{i=1}^n X_i), X_i~U_{a,b}\n",
    "def uniform_mean_pdf(s,n,h):\n",
    "    a = s[0]\n",
    "    b = s[1]\n",
    "    d = 10.0/1000;\n",
    "    x=linspace(0.01,10,1000)\n",
    "    close()\n",
    "    if a<b:\n",
    "        y=(1.0*(x>=a))*(1.0*(x<=b))/(b-a)\n",
    "        z=y\n",
    "        for j in range(2,n+1):\n",
    "            t = [item/(j-1) for item in z for i in range(j-1)]\n",
    "            z=[0,] + convolve(y,t).tolist()\n",
    "            z=[i*d for i in z]\n",
    "            z = sum(reshape(z,(1000,j)),axis=1)\n",
    "        plot(x, z)\n",
    "        plot([(a+b)/2, (a+b)/2], [0, 1], 'g--', linewidth = 2.0)\n",
    "        uniform_plot_hist(s,n,h)\n",
    "        title('PDF and histogram of $\\overline{X}_n$ with n=%d, s=%d'%(n,h), fontsize = 20)\n",
    "        xlabel('$\\overline{x}_n$', fontsize = 20)\n",
    "        ylabel('$f_{\\overline{X}_n}(x)$', fontsize = 20)\n"
   ]
  },
  {
   "cell_type": "markdown",
   "metadata": {},
   "source": [
    "Next some sliders to control the input, followed by the actual simulation. \n",
    "\n",
    "$[a,b]$ is the range of the uniform distirbution, shown in blue, and its mean $x=\\mu=E[X_i]$\n",
    "is shown in green. $n$ is the number of variables that get averaged and the pdf of the average is shown in blue. For example, if $n=5$ and $s=1000$ then you generate 1000 samples, where each sample is the mean of 5 samples from the uniform distribution. \n",
    "\n",
    "Observe that as you increase $n$, the distribution of the mean approaches a spike at $\\mu$. And when you increase $s$ the simulation histogram approaches the actual distribution. \n"
   ]
  },
  {
   "cell_type": "code",
   "execution_count": 5,
   "metadata": {},
   "outputs": [
    {
     "data": {
      "application/vnd.jupyter.widget-view+json": {
       "model_id": "522f41ceb5cb42c8959b4224e8b96f60",
       "version_major": 2,
       "version_minor": 0
      },
      "text/html": [
       "<p>Failed to display Jupyter Widget of type <code>interactive</code>.</p>\n",
       "<p>\n",
       "  If you're reading this message in the Jupyter Notebook or JupyterLab Notebook, it may mean\n",
       "  that the widgets JavaScript is still loading. If this message persists, it\n",
       "  likely means that the widgets JavaScript library is either not installed or\n",
       "  not enabled. See the <a href=\"https://ipywidgets.readthedocs.io/en/stable/user_install.html\">Jupyter\n",
       "  Widgets Documentation</a> for setup instructions.\n",
       "</p>\n",
       "<p>\n",
       "  If you're reading this message in another frontend (for example, a static\n",
       "  rendering on GitHub or <a href=\"https://nbviewer.jupyter.org/\">NBViewer</a>),\n",
       "  it may mean that your frontend doesn't currently support widgets.\n",
       "</p>\n"
      ],
      "text/plain": [
       "interactive(children=(FloatRangeSlider(value=(2.0, 8.0), continuous_update=False, description='[a, b]', max=9.98, min=0.02, step=0.01), IntSlider(value=1, description='n:', max=20, min=1), IntSlider(value=0, description='s:', max=10000, step=50), Output()), _dom_classes=('widget-interact',))"
      ]
     },
     "metadata": {},
     "output_type": "display_data"
    },
    {
     "data": {
      "text/plain": [
       "<function __main__.uniform_mean_pdf>"
      ]
     },
     "execution_count": 5,
     "metadata": {},
     "output_type": "execute_result"
    }
   ],
   "source": [
    "w=widgets.FloatRangeSlider(description = \"[a, b]\", value=[2, 8], min=0.02,max=9.98,step=0.01,continuous_update = False)\n",
    "widgets.interact(uniform_mean_pdf,s=w,n=widgets.IntSlider(min=1, max=20,description='n:', step=1, value=1),h=widgets.IntSlider(min=0, max=10000,description='s:', step=50, value=0))"
   ]
  },
  {
   "cell_type": "markdown",
   "metadata": {},
   "source": [
    "To see that this distribution is \"real\" here is a simulation obtained by adding $n$ samples from the uniform distributionLet's superimpose the pdf with a histogram "
   ]
  },
  {
   "cell_type": "markdown",
   "metadata": {},
   "source": [
    "### Exponential distribution"
   ]
  },
  {
   "cell_type": "markdown",
   "metadata": {},
   "source": [
    "Again we plot the probability distribution function (PDF) of sample mean\n",
    "$$\\overline{X}_n=\\frac{1}{n}\\sum_{i=1}^n X_i.$$\n",
    "However, now the $X_i$ follow an i.i.d. exponential distribution with parameter $\\lambda$\n",
    "$$f_{X_i}(x)=\\begin{cases}\n",
    "\\lambda e^{-\\lambda x} & x\\ge 0\\\\\n",
    "0 & x<0\n",
    "\\end{cases}$$\n",
    "The green line denotes $x=E[X_i]$."
   ]
  },
  {
   "cell_type": "code",
   "execution_count": 6,
   "metadata": {},
   "outputs": [],
   "source": [
    "from math import exp,factorial\n",
    "# Generate the sample mean of k exponential distribution with parameter beta, repeat that n times\n",
    "def generate_exponential_counts(lam,k,n):\n",
    "    X= random.exponential(1.0/lam,[k,n])  # generate a k by n matrix of uniform random numbers\n",
    "    S=sum(X,axis=0)/k\n",
    "    return S\n",
    "\n",
    "def exp_plot_hist(lam,k,h):\n",
    "    n=h\n",
    "    if h>0:\n",
    "        counts=generate_exponential_counts(lam,k,n)\n",
    "        hist(counts,bins=30,normed=1);\n",
    "\n",
    "# plot the pdf of 1/n(\\sum_{i=1}^n X_i), X_i~Exp_{lam}\n",
    "from math import exp\n",
    "def exponential_mean_pdf(lam,n,h):\n",
    "    d = 5.0/1000;\n",
    "    x=linspace(0.01,5,1000)\n",
    "    z=[(lam**n)*((i*(n))**(n-1))*exp(-lam*(i*(n)))/(factorial(n-1))*(n) for i in x]\n",
    "    close()\n",
    "    plot(x, z)\n",
    "    plot([1.0/lam, 1.0/lam], [0, 2], 'g--', linewidth = 2.0)\n",
    "    exp_plot_hist(lam,n,h)\n",
    "    title('PDF and histogram of $\\overline{X}_n$ with n=%d, s=%d'%(n,h), fontsize = 20)\n",
    "    xlabel('$x$', fontsize = 20)\n",
    "    ylabel('$f_{\\overline{X}_n}(x)$', fontsize = 20)"
   ]
  },
  {
   "cell_type": "markdown",
   "metadata": {},
   "source": [
    "Next some sliders to control the input, followed by the actual simulation. \n",
    "\n",
    "$\\lambda$ is the parameter of the exponential distirbution, shown in blue, and its mean $x=1/\\lambda=E[X_i]$\n",
    "is shown in green. $n$ is the number of variables that get averaged and the pdf of the average is shown in blue. For example, if $n=5$ and $s=1000$ then you generate 1000 samples, where each sample is the mean of 5 samples from the exponential distribution. \n",
    "\n",
    "Observe that as you increase $n$, the distribution of the mean approaches a spike at $\\mu$. And when you increase $s$ the simulation histogram approaches the actual distribution. \n"
   ]
  },
  {
   "cell_type": "code",
   "execution_count": 7,
   "metadata": {},
   "outputs": [
    {
     "data": {
      "application/vnd.jupyter.widget-view+json": {
       "model_id": "a9f4c7f3c16a41e384b47b8a866c4fb4",
       "version_major": 2,
       "version_minor": 0
      },
      "text/html": [
       "<p>Failed to display Jupyter Widget of type <code>interactive</code>.</p>\n",
       "<p>\n",
       "  If you're reading this message in the Jupyter Notebook or JupyterLab Notebook, it may mean\n",
       "  that the widgets JavaScript is still loading. If this message persists, it\n",
       "  likely means that the widgets JavaScript library is either not installed or\n",
       "  not enabled. See the <a href=\"https://ipywidgets.readthedocs.io/en/stable/user_install.html\">Jupyter\n",
       "  Widgets Documentation</a> for setup instructions.\n",
       "</p>\n",
       "<p>\n",
       "  If you're reading this message in another frontend (for example, a static\n",
       "  rendering on GitHub or <a href=\"https://nbviewer.jupyter.org/\">NBViewer</a>),\n",
       "  it may mean that your frontend doesn't currently support widgets.\n",
       "</p>\n"
      ],
      "text/plain": [
       "interactive(children=(FloatSlider(value=2.0, description='$\\\\lambda$:', max=4.0, min=1.0), IntSlider(value=1, description='n:', max=20, min=1), IntSlider(value=0, description='s:', max=10000, step=50), Output()), _dom_classes=('widget-interact',))"
      ]
     },
     "metadata": {},
     "output_type": "display_data"
    },
    {
     "data": {
      "text/plain": [
       "<function __main__.exponential_mean_pdf>"
      ]
     },
     "execution_count": 7,
     "metadata": {},
     "output_type": "execute_result"
    }
   ],
   "source": [
    "widgets.interact(\n",
    "    exponential_mean_pdf,\n",
    "    lam=widgets.FloatSlider(min=1, max=4,description='$\\lambda$:', step=0.1, value=2),\n",
    "    n=widgets.IntSlider(min=1, max=20,description='n:', step=1, value=1),\n",
    "    h=widgets.IntSlider(min=0, max=10000,description='s:', step=50, value=0))"
   ]
  },
  {
   "cell_type": "markdown",
   "metadata": {},
   "source": [
    "## Central Limit Theorem\n",
    "### Uniform Distribution"
   ]
  },
  {
   "cell_type": "markdown",
   "metadata": {},
   "source": [
    "This section demonstrates the Central Limit Theorem by comparing\n",
    "$$S_n=\\frac{1}{\\sqrt{n}}\\sum_{i=1}^n \\left({X_i-\\mu}\\right)$$\n",
    "with the normal distribution $\\mathcal{N}(0,\\sigma^2)$\n",
    "where $X_i$ are iid random variables and $\\mu=E[X_i]$, $\\sigma^2=V(X_i)$."
   ]
  },
  {
   "cell_type": "markdown",
   "metadata": {},
   "source": [
    "The code below plots the probability distribution function (PDF) of $S_n$ and $\\mathcal{N}(0,\\sigma^2)$ when $X_i$ follows uniform distribution on $[a,b]$. Observe how quickly the distribution of $S_n$ converges to normal. "
   ]
  },
  {
   "cell_type": "code",
   "execution_count": 8,
   "metadata": {},
   "outputs": [],
   "source": [
    "# plot the pdf of 1/n(\\sum_{i=1}^n X_i), X_i~U_{a,b}\n",
    "from math import sqrt,exp\n",
    "def uniform_sample_counts(a,b,k,n):\n",
    "    X= random.uniform(a-(a+b)/2,b-(a+b)/2,[k,n])  # generate a k by n matrix of uniform random numbers\n",
    "    S=sum(X,axis=0)/sqrt(k)\n",
    "    return S\n",
    "\n",
    "def uniform_plot_hist(s,k,h):\n",
    "    a=s[0]\n",
    "    b=s[1]\n",
    "    if h>0:\n",
    "        n=h\n",
    "        counts=uniform_sample_counts(a,b,k,n)\n",
    "        hist(counts,bins=40,normed=1);\n",
    "    \n",
    "def uniform_mean_pdf(s,n,h):\n",
    "    a = s[0]\n",
    "    b = s[1]\n",
    "    d = 10.0/1000;\n",
    "    x=linspace(-4.99,5,1000)\n",
    "    if a<b:\n",
    "        y=(1.0*(x>=(a-b)/2))*(1.0*(x<=(b-a)/2))/(b-a)\n",
    "        z=y\n",
    "        for j in range(2,n+1):\n",
    "            t = [item/(j-1) for item in z for i in range(j-1)]\n",
    "            z=[0,] + convolve(y,t).tolist()\n",
    "            z=[i*d for i in z]\n",
    "            z = sum(reshape(z,(1000,j)),axis=1)\n",
    "        sc = int(n/sqrt(n))\n",
    "        rem = n/sqrt(n)-sc\n",
    "        z = [item/(rem+sc) for item in z for i in range(sc+random.binomial(1,rem))]\n",
    "        x = linspace(-d*len(z)/2,d*len(z)/2,len(z))\n",
    "        close()\n",
    "        plot(x, z)\n",
    "        xlim([-5,5])\n",
    "        title('PDF and histogram of ${Z}_n$ with n=%d'%n, fontsize = 20)\n",
    "        xlabel('$x$', fontsize = 20)\n",
    "        ylabel('$f_{S_n}(x)$', fontsize = 20)\n",
    "        \n",
    "        var = (b-a)**2/12\n",
    "        p = linspace(-5,5,1000)\n",
    "        q = [exp(-i**2/(2*var))/(sqrt(2*pi*var)) for i in p]\n",
    "        plot(p,q)\n",
    "        xlim([-5,5])\n",
    "        grid()\n",
    "        \n",
    "        uniform_plot_hist(s,n,h)"
   ]
  },
  {
   "cell_type": "code",
   "execution_count": 9,
   "metadata": {},
   "outputs": [
    {
     "data": {
      "application/vnd.jupyter.widget-view+json": {
       "model_id": "1424dd4584dd40da98a2903c6f2c0204",
       "version_major": 2,
       "version_minor": 0
      },
      "text/html": [
       "<p>Failed to display Jupyter Widget of type <code>interactive</code>.</p>\n",
       "<p>\n",
       "  If you're reading this message in the Jupyter Notebook or JupyterLab Notebook, it may mean\n",
       "  that the widgets JavaScript is still loading. If this message persists, it\n",
       "  likely means that the widgets JavaScript library is either not installed or\n",
       "  not enabled. See the <a href=\"https://ipywidgets.readthedocs.io/en/stable/user_install.html\">Jupyter\n",
       "  Widgets Documentation</a> for setup instructions.\n",
       "</p>\n",
       "<p>\n",
       "  If you're reading this message in another frontend (for example, a static\n",
       "  rendering on GitHub or <a href=\"https://nbviewer.jupyter.org/\">NBViewer</a>),\n",
       "  it may mean that your frontend doesn't currently support widgets.\n",
       "</p>\n"
      ],
      "text/plain": [
       "interactive(children=(FloatRangeSlider(value=(2.0, 8.0), continuous_update=False, description='[a, b]', max=9.98, min=0.02, step=0.01), IntSlider(value=1, description='n:', max=10, min=1), IntSlider(value=0, description='s:', max=10000, step=50), Output()), _dom_classes=('widget-interact',))"
      ]
     },
     "metadata": {},
     "output_type": "display_data"
    },
    {
     "data": {
      "text/plain": [
       "<function __main__.uniform_mean_pdf>"
      ]
     },
     "execution_count": 9,
     "metadata": {},
     "output_type": "execute_result"
    }
   ],
   "source": [
    "w=widgets.FloatRangeSlider(\n",
    "    description = \"[a, b]\",\n",
    "    value=[2, 8],\n",
    "    min=0.02,\n",
    "    max=9.98,\n",
    "    step=0.01,\n",
    "    continuous_update = False)\n",
    "widgets.interact(\n",
    "    uniform_mean_pdf,\n",
    "    s=w,\n",
    "    n=widgets.IntSlider(min=1, max=10,description='n:', step=1, value=1),\n",
    "    h=widgets.IntSlider(min=0, max=10000,description='s:', step=50, value=0))"
   ]
  },
  {
   "cell_type": "markdown",
   "metadata": {},
   "source": [
    "The code below plots the probability distribution function (PDF) of $S_n$ and $\\mathcal{N}(0,\\sigma^2)$ when the $X_i$ follow exponential distribution with parameter $\\lambda$. Again observe the high convergence speed."
   ]
  },
  {
   "cell_type": "code",
   "execution_count": 10,
   "metadata": {},
   "outputs": [
    {
     "data": {
      "application/vnd.jupyter.widget-view+json": {
       "model_id": "63eea35dc9c14f9d96407741c4c35b3f",
       "version_major": 2,
       "version_minor": 0
      },
      "text/html": [
       "<p>Failed to display Jupyter Widget of type <code>interactive</code>.</p>\n",
       "<p>\n",
       "  If you're reading this message in the Jupyter Notebook or JupyterLab Notebook, it may mean\n",
       "  that the widgets JavaScript is still loading. If this message persists, it\n",
       "  likely means that the widgets JavaScript library is either not installed or\n",
       "  not enabled. See the <a href=\"https://ipywidgets.readthedocs.io/en/stable/user_install.html\">Jupyter\n",
       "  Widgets Documentation</a> for setup instructions.\n",
       "</p>\n",
       "<p>\n",
       "  If you're reading this message in another frontend (for example, a static\n",
       "  rendering on GitHub or <a href=\"https://nbviewer.jupyter.org/\">NBViewer</a>),\n",
       "  it may mean that your frontend doesn't currently support widgets.\n",
       "</p>\n"
      ],
      "text/plain": [
       "interactive(children=(FloatSlider(value=2.0, description='$\\\\lambda$:', max=3.0, min=1.0), IntSlider(value=1, description='n:', max=30, min=1), IntSlider(value=0, description='s:', max=10000, step=50), Output()), _dom_classes=('widget-interact',))"
      ]
     },
     "metadata": {},
     "output_type": "display_data"
    },
    {
     "data": {
      "text/plain": [
       "<function __main__.exponential_mean_pdf>"
      ]
     },
     "execution_count": 10,
     "metadata": {},
     "output_type": "execute_result"
    }
   ],
   "source": [
    "# plot the pdf of 1/n(\\sum_{i=1}^n X_i), X_i~Exp_{lam}\n",
    "from math import exp,factorial,sqrt\n",
    "def exp_sample_counts(lam,k,n):\n",
    "    X= random.exponential(1.0/lam,[k,n])-1.0/lam  # generate a k by n matrix of uniform random numbers\n",
    "    S=sum(X,axis=0)/sqrt(k)\n",
    "    return S\n",
    "\n",
    "def exp_plot_hist(lam,k,h):\n",
    "    lam\n",
    "    if h>0:\n",
    "        n=h\n",
    "        counts=exp_sample_counts(lam,k,n)\n",
    "        hist(counts,bins=40,normed=1);\n",
    "    \n",
    "def exponential_mean_pdf(lam,n,h):\n",
    "    d=0.01\n",
    "    x=linspace(d,5,500)\n",
    "    z=[(lam**n)*((i*sqrt(n))**(n-1))*exp(-lam*(i*sqrt(n)))/(factorial(n-1))*sqrt(n) for i in x]\n",
    "    x=linspace(d-n/(sqrt(n)*lam),5-n/(sqrt(n)*lam),500)\n",
    "    close()\n",
    "    plot(x, z)\n",
    "    #plot([1.0/lam, 1.0/lam], [0, 2], 'g--', linewidth = 2.0)\n",
    "    title('PDF and histogram of ${Z}_n$ with n=%d $\\lambda$=%1.2f'%(n,lam), fontsize = 20)\n",
    "    xlabel('$x$', fontsize = 20)\n",
    "    ylabel('$f_{S_n}(x)$', fontsize = 20)\n",
    "    \n",
    "    var = 1.0/(lam**2)\n",
    "    p = linspace(-5,5,1000)\n",
    "    q = [exp(-i**2/(2*var))/(sqrt(2*pi*var)) for i in p]\n",
    "    plot(p,q)\n",
    "    xlim([-5,5])\n",
    "    ylim([0,1.3])\n",
    "    grid()\n",
    "    \n",
    "    exp_plot_hist(lam,n,h)\n",
    "\n",
    "widgets.interact(\n",
    "    exponential_mean_pdf,\n",
    "    lam=widgets.FloatSlider(min=1, max=3,description='$\\lambda$:', step=0.1, value=2),\n",
    "    n=widgets.IntSlider(min=1, max=30,description='n:', step=1, value=1),\n",
    "    h=widgets.IntSlider(min=0, max=10000,description='s:', step=50, value=0))"
   ]
  },
  {
   "cell_type": "code",
   "execution_count": null,
   "metadata": {
    "collapsed": true
   },
   "outputs": [],
   "source": []
  }
 ],
 "metadata": {
  "kernelspec": {
   "display_name": "Python 3",
   "language": "python",
   "name": "python3"
  },
  "language_info": {
   "codemirror_mode": {
    "name": "ipython",
    "version": 3
   },
   "file_extension": ".py",
   "mimetype": "text/x-python",
   "name": "python",
   "nbconvert_exporter": "python",
   "pygments_lexer": "ipython3",
   "version": "3.6.4"
  },
  "toc": {
   "colors": {
    "hover_highlight": "#DAA520",
    "navigate_num": "#000000",
    "navigate_text": "#333333",
    "running_highlight": "#FF0000",
    "selected_highlight": "#FFD700",
    "sidebar_border": "#EEEEEE",
    "wrapper_background": "#FFFFFF"
   },
   "moveMenuLeft": true,
   "nav_menu": {
    "height": "48px",
    "width": "252px"
   },
   "navigate_menu": true,
   "number_sections": true,
   "sideBar": true,
   "skip_h1_title": false,
   "threshold": 4,
   "toc_cell": false,
   "toc_position": {},
   "toc_section_display": "block",
   "toc_window_display": false,
   "widenNotebook": false
  },
  "widgets": {
   "state": {
    "029e71b1af844deca7a934c36ff9c861": {
     "views": [
      {
       "cell_index": 18
      }
     ]
    },
    "0504b278e7c64cf7941648647a1b5159": {
     "views": [
      {
       "cell_index": 6
      }
     ]
    },
    "596363d86e9d4b61a649b330820ea54c": {
     "views": [
      {
       "cell_index": 23
      }
     ]
    },
    "ac769958201e4bcf887a07983c29da97": {
     "views": [
      {
       "cell_index": 12
      }
     ]
    },
    "b7e78741b9bf46019b89491347db0a94": {
     "views": [
      {
       "cell_index": 25
      }
     ]
    }
   },
   "version": "1.2.0"
  }
 },
 "nbformat": 4,
 "nbformat_minor": 2
}
