{
 "cells": [
  {
   "cell_type": "markdown",
   "metadata": {},
   "source": [
    "## Estimating the Mean\n",
    "\n",
    "We demonstrate how the sample mean approximates the distribution mean. \n",
    "\n",
    "### Convergence of Sample Mean\n",
    "\n",
    "In lecture we saw that if we take $n$ samples, $X_1,\\ldots, X_n$, the sample mean $\\overline X=\\frac{X_1+\\ldots+X_n}n$ converges to the distribution mean $\\mu$. The following program demonstrate that."
   ]
  },
  {
   "cell_type": "code",
   "execution_count": 1,
   "metadata": {},
   "outputs": [
    {
     "name": "stdout",
     "output_type": "stream",
     "text": [
      "Populating the interactive namespace from numpy and matplotlib\n"
     ]
    }
   ],
   "source": [
    "%pylab inline\n",
    "import ipywidgets as widgets\n",
    "from scipy.stats import norm, uniform"
   ]
  },
  {
   "cell_type": "code",
   "execution_count": 2,
   "metadata": {},
   "outputs": [],
   "source": [
    "def Sample_Mean(n,r):\n",
    "# n: sample size\n",
    "# r: number of experiments\n",
    "\n",
    "    figure(figsize=(20,10))\n",
    "    xlim([1,n])\n",
    "    ylim([-1, 1])\n",
    "    grid()\n",
    "    \n",
    "    x = range(1,n+1)\n",
    "    z = 1.0/sqrt(x)\n",
    "    plot(x, z,'k--')\n",
    "    plot(x, negative(z), 'k--')\n",
    "    \n",
    "    for i in range(r):\n",
    "        y = random.normal(0, 1, n)\n",
    "        m = divide(cumsum(y), x)\n",
    "        plot(x, m, alpha=0.5)"
   ]
  },
  {
   "cell_type": "markdown",
   "metadata": {},
   "source": [
    "The following graph shows how the sample mean $\\overline X$ converges to the distribution mean $\\mu$. The underlying distribution is standard normal. $n$ is the number of samples, and $r$ is the number of experiments.\n",
    "\n",
    "Recall that the sample mean's expected value is always $\\mu$, which here is 0, and that its standard deviation is $\\frac\\sigma{\\sqrt n}$, which here is $\\frac1{\\sqrt n}$. The dashed black line shows this value and its negation. \n",
    "\n",
    "Observe:\n",
    "* When the sample size $n$ increases, all curves get closer to the distribution mean 0.\n",
    "* The $r$ sample means are typically bounded between the positive and negative standard deviations."
   ]
  },
  {
   "cell_type": "code",
   "execution_count": 3,
   "metadata": {},
   "outputs": [
    {
     "data": {
      "application/vnd.jupyter.widget-view+json": {
       "model_id": "1ca3f53bd64f44d092b0e08da8e5c511",
       "version_major": 2,
       "version_minor": 0
      },
      "text/html": [
       "<p>Failed to display Jupyter Widget of type <code>interactive</code>.</p>\n",
       "<p>\n",
       "  If you're reading this message in the Jupyter Notebook or JupyterLab Notebook, it may mean\n",
       "  that the widgets JavaScript is still loading. If this message persists, it\n",
       "  likely means that the widgets JavaScript library is either not installed or\n",
       "  not enabled. See the <a href=\"https://ipywidgets.readthedocs.io/en/stable/user_install.html\">Jupyter\n",
       "  Widgets Documentation</a> for setup instructions.\n",
       "</p>\n",
       "<p>\n",
       "  If you're reading this message in another frontend (for example, a static\n",
       "  rendering on GitHub or <a href=\"https://nbviewer.jupyter.org/\">NBViewer</a>),\n",
       "  it may mean that your frontend doesn't currently support widgets.\n",
       "</p>\n"
      ],
      "text/plain": [
       "interactive(children=(IntSlider(value=100, description='sample size', max=1000, min=10, step=10), IntSlider(value=5, description='experiments', max=10, min=1), Output()), _dom_classes=('widget-interact',))"
      ]
     },
     "metadata": {},
     "output_type": "display_data"
    },
    {
     "data": {
      "text/plain": [
       "<function __main__.Sample_Mean>"
      ]
     },
     "execution_count": 3,
     "metadata": {},
     "output_type": "execute_result"
    }
   ],
   "source": [
    "widgets.interact(Sample_Mean,\n",
    "                 n=widgets.IntSlider(min=10, max=1000,description='sample size', step=10, value=100),\n",
    "                 r=widgets.IntSlider(min=1, max=10,description='experiments', step=1, value=5))"
   ]
  },
  {
   "cell_type": "markdown",
   "metadata": {},
   "source": [
    "### Distribution of the sample mean\n",
    "\n",
    "Next consider the distribution of the sample mean $\\overline X$. In this example the underlying distribution is either uniform or standard Normal (you can comment the code to choose). You can see that as the sample size $n$ increases the distribution of $\\overline X$ becomes uniform, as predicted by the central limit theorem. If you sample from the normal distribution then $\\overline X$ is exactly normal for any $n$. "
   ]
  },
  {
   "cell_type": "code",
   "execution_count": 4,
   "metadata": {},
   "outputs": [],
   "source": [
    "def Normal_Mean(n):\n",
    "# n: sample size\n",
    "# s: number of experiments\n",
    "    figure(figsize=(20,10))\n",
    "    title('histogram of sample means with sample size n=%d'%n,fontsize = 15)\n",
    "    xlabel('$\\overline{X}$',fontsize = 15)\n",
    "    ylabel('frequency', fontsize = 15)\n",
    "    grid()\n",
    "\n",
    "    s = 100000\n",
    "    \n",
    "    x = linspace(-4,4,1000)\n",
    "    #y = [norm.pdf(i,0,1) for i in x]\n",
    "    y = [uniform.pdf(i,0,1) for i in x]\n",
    "    plot(x,y)\n",
    "    \n",
    "    #X = random.normal(0,1,[n,s])\n",
    "    X= random.uniform(0,1,[n,s])\n",
    "    M = sum(X,axis=0)/n\n",
    "    hist(M,bins=40,normed=1)"
   ]
  },
  {
   "cell_type": "code",
   "execution_count": 5,
   "metadata": {},
   "outputs": [
    {
     "data": {
      "application/vnd.jupyter.widget-view+json": {
       "model_id": "7ed756d91b254a9a8497c3ae6ee948db",
       "version_major": 2,
       "version_minor": 0
      },
      "text/html": [
       "<p>Failed to display Jupyter Widget of type <code>interactive</code>.</p>\n",
       "<p>\n",
       "  If you're reading this message in the Jupyter Notebook or JupyterLab Notebook, it may mean\n",
       "  that the widgets JavaScript is still loading. If this message persists, it\n",
       "  likely means that the widgets JavaScript library is either not installed or\n",
       "  not enabled. See the <a href=\"https://ipywidgets.readthedocs.io/en/stable/user_install.html\">Jupyter\n",
       "  Widgets Documentation</a> for setup instructions.\n",
       "</p>\n",
       "<p>\n",
       "  If you're reading this message in another frontend (for example, a static\n",
       "  rendering on GitHub or <a href=\"https://nbviewer.jupyter.org/\">NBViewer</a>),\n",
       "  it may mean that your frontend doesn't currently support widgets.\n",
       "</p>\n"
      ],
      "text/plain": [
       "interactive(children=(IntSlider(value=1, description='sample size', max=30, min=1), Output()), _dom_classes=('widget-interact',))"
      ]
     },
     "metadata": {},
     "output_type": "display_data"
    },
    {
     "data": {
      "text/plain": [
       "<function __main__.Normal_Mean>"
      ]
     },
     "execution_count": 5,
     "metadata": {},
     "output_type": "execute_result"
    }
   ],
   "source": [
    "widgets.interact(\n",
    "    Normal_Mean,\n",
    "    n = widgets.IntSlider(min=1, max=30,description='sample size', step=1, value=0))"
   ]
  },
  {
   "cell_type": "markdown",
   "metadata": {},
   "source": [
    "## Variance Estimation\n",
    "\n",
    "Next we estimate the variance. \n",
    "\n",
    "### Raw (biased) Estimator\n",
    "\n",
    "We start with the raw estimate that uses the intuitive normalization by $n$. We show experimentally that its expected value is $\\frac{n-1}n\\sigma^2$.\n",
    "\n",
    "In this example the underlying distribution is standard Normal (but you can easily modify the code). The green line shows the true distribution variance, here 1. The red line shows the average of the \"raw\" (biased) sample variance. Observe that as you change $n$, the red line is roughly at $\\frac{n-1}n$."
   ]
  },
  {
   "cell_type": "code",
   "execution_count": 6,
   "metadata": {},
   "outputs": [],
   "source": [
    "def Normal_Variance(n,df):\n",
    "# n: sample size\n",
    "# s: number of experiments\n",
    "# df: degree of freedom\n",
    "#     df=0: calculate \"raw\" variance \n",
    "#     df=1: calculate unbiased variance \n",
    "    figure(figsize=(20,10))\n",
    "    xlim([0,4])\n",
    "    \n",
    "    s = 1000000\n",
    "    X = random.normal(0,1,[n,s])\n",
    "    V = var(X,axis=0,ddof=df)\n",
    "    v = mean(V)\n",
    "    \n",
    "    plot([v,v], [0, 3], 'r--', linewidth = 2.0)\n",
    "    hist(V,bins=60,normed=1);\n",
    "\n",
    "    plot([1,1], [0, 3], 'g:', linewidth = 2.0)\n",
    "    ylabel('frequency', fontsize = 15)\n",
    "    grid()"
   ]
  },
  {
   "cell_type": "code",
   "execution_count": 7,
   "metadata": {},
   "outputs": [
    {
     "data": {
      "application/vnd.jupyter.widget-view+json": {
       "model_id": "57311a8dbc2d4987a20cb6e72d445b95",
       "version_major": 2,
       "version_minor": 0
      },
      "text/html": [
       "<p>Failed to display Jupyter Widget of type <code>interactive</code>.</p>\n",
       "<p>\n",
       "  If you're reading this message in the Jupyter Notebook or JupyterLab Notebook, it may mean\n",
       "  that the widgets JavaScript is still loading. If this message persists, it\n",
       "  likely means that the widgets JavaScript library is either not installed or\n",
       "  not enabled. See the <a href=\"https://ipywidgets.readthedocs.io/en/stable/user_install.html\">Jupyter\n",
       "  Widgets Documentation</a> for setup instructions.\n",
       "</p>\n",
       "<p>\n",
       "  If you're reading this message in another frontend (for example, a static\n",
       "  rendering on GitHub or <a href=\"https://nbviewer.jupyter.org/\">NBViewer</a>),\n",
       "  it may mean that your frontend doesn't currently support widgets.\n",
       "</p>\n"
      ],
      "text/plain": [
       "interactive(children=(IntSlider(value=2, description='n=', max=20, min=2), Output()), _dom_classes=('widget-interact',))"
      ]
     },
     "metadata": {},
     "output_type": "display_data"
    },
    {
     "data": {
      "text/plain": [
       "<function __main__.Raw_Variance>"
      ]
     },
     "execution_count": 7,
     "metadata": {},
     "output_type": "execute_result"
    }
   ],
   "source": [
    "def Raw_Variance(n):\n",
    "    Normal_Variance(n,0)\n",
    "    title('histogram of \"raw\" sample variance with sample size n=%d'%n,fontsize = 15)\n",
    "    xlabel('\"$S^2$\"', fontsize = 15)\n",
    "widgets.interact(\n",
    "    Raw_Variance,\n",
    "    n = widgets.IntSlider(min=2, max=20,description='n=', step=1, value=2))"
   ]
  },
  {
   "cell_type": "markdown",
   "metadata": {},
   "source": [
    "### Unbiased Variance Estimator\n",
    "\n",
    "Next we apply the Bessel correction, where instead of normalizing by $n$, we normalize by $n-1$. We show experimentally that this estimator is unbiased.\n",
    "\n",
    "Again, the underlying distribution is standard Normal. The red line shows the expectation of the unbiased sample variance and the blue line shows the true distribution variance. And we can see that those two lines overlap for all $n$."
   ]
  },
  {
   "cell_type": "code",
   "execution_count": 8,
   "metadata": {},
   "outputs": [
    {
     "data": {
      "application/vnd.jupyter.widget-view+json": {
       "model_id": "622d8b37c40846a39c847d046d6d79a6",
       "version_major": 2,
       "version_minor": 0
      },
      "text/html": [
       "<p>Failed to display Jupyter Widget of type <code>interactive</code>.</p>\n",
       "<p>\n",
       "  If you're reading this message in the Jupyter Notebook or JupyterLab Notebook, it may mean\n",
       "  that the widgets JavaScript is still loading. If this message persists, it\n",
       "  likely means that the widgets JavaScript library is either not installed or\n",
       "  not enabled. See the <a href=\"https://ipywidgets.readthedocs.io/en/stable/user_install.html\">Jupyter\n",
       "  Widgets Documentation</a> for setup instructions.\n",
       "</p>\n",
       "<p>\n",
       "  If you're reading this message in another frontend (for example, a static\n",
       "  rendering on GitHub or <a href=\"https://nbviewer.jupyter.org/\">NBViewer</a>),\n",
       "  it may mean that your frontend doesn't currently support widgets.\n",
       "</p>\n"
      ],
      "text/plain": [
       "interactive(children=(IntSlider(value=2, description='n=', max=20, min=2), Output()), _dom_classes=('widget-interact',))"
      ]
     },
     "metadata": {},
     "output_type": "display_data"
    },
    {
     "data": {
      "text/plain": [
       "<function __main__.Unbiased_Variance>"
      ]
     },
     "execution_count": 8,
     "metadata": {},
     "output_type": "execute_result"
    }
   ],
   "source": [
    "def Unbiased_Variance(n):\n",
    "    Normal_Variance(n,1)\n",
    "    title('histogram of unbiased sample variance with sample size n=%d'%n,fontsize = 15)\n",
    "    xlabel('$S^2$', fontsize = 15)\n",
    "widgets.interact(\n",
    "    Unbiased_Variance,\n",
    "    n = widgets.IntSlider(min=2, max=20,description='n=', step=1, value=2))"
   ]
  },
  {
   "cell_type": "markdown",
   "metadata": {},
   "source": [
    "## Estimating the standad deviation\n",
    "\n",
    "We apply the standard standard-deviation estimator and show that on average it underestimates $\\sigma$. "
   ]
  },
  {
   "cell_type": "code",
   "execution_count": 9,
   "metadata": {},
   "outputs": [],
   "source": [
    "def Normal_SD(n):\n",
    "# n: sample size\n",
    "# s: number of experiments\n",
    "\n",
    "    figure(figsize=(20,10))\n",
    "    xlim([0,3])\n",
    "    title('histogram of sample standard deviation with sample size n=%d'%n,fontsize = 15)\n",
    "    xlabel('$\\hat{\\sigma}$', fontsize = 15)\n",
    "    \n",
    "    s = 1000000\n",
    "    X = random.normal(0,1,[n,s])\n",
    "    V = sqrt(var(X,axis=0,ddof=1))\n",
    "    v = mean(V)\n",
    "    \n",
    "    plot([v,v], [0, 3], 'r--', linewidth = 2.0)\n",
    "    hist(V,bins=60,normed=1);\n",
    "\n",
    "    plot([1,1], [0, 3], 'g:', linewidth = 2.0)\n",
    "    ylabel('frequency', fontsize = 15)\n",
    "    grid() "
   ]
  },
  {
   "cell_type": "markdown",
   "metadata": {},
   "source": [
    "We continu to use the standard normal as the underlying distribution. The green line shows the distribution's true standard deviation $\\sigma=1$. The red line shows the average of the sample standard deviation (square root of unbiased sample variance). Observe that the sample standard deviation underestimates $\\sigma$, but this underestimate shrinks as you increase $n$."
   ]
  },
  {
   "cell_type": "code",
   "execution_count": 10,
   "metadata": {},
   "outputs": [
    {
     "data": {
      "application/vnd.jupyter.widget-view+json": {
       "model_id": "46577bf651ea485486a63571828d731e",
       "version_major": 2,
       "version_minor": 0
      },
      "text/html": [
       "<p>Failed to display Jupyter Widget of type <code>interactive</code>.</p>\n",
       "<p>\n",
       "  If you're reading this message in the Jupyter Notebook or JupyterLab Notebook, it may mean\n",
       "  that the widgets JavaScript is still loading. If this message persists, it\n",
       "  likely means that the widgets JavaScript library is either not installed or\n",
       "  not enabled. See the <a href=\"https://ipywidgets.readthedocs.io/en/stable/user_install.html\">Jupyter\n",
       "  Widgets Documentation</a> for setup instructions.\n",
       "</p>\n",
       "<p>\n",
       "  If you're reading this message in another frontend (for example, a static\n",
       "  rendering on GitHub or <a href=\"https://nbviewer.jupyter.org/\">NBViewer</a>),\n",
       "  it may mean that your frontend doesn't currently support widgets.\n",
       "</p>\n"
      ],
      "text/plain": [
       "interactive(children=(IntSlider(value=2, description='n=', max=10, min=2), Output()), _dom_classes=('widget-interact',))"
      ]
     },
     "metadata": {},
     "output_type": "display_data"
    },
    {
     "data": {
      "text/plain": [
       "<function __main__.Normal_SD>"
      ]
     },
     "execution_count": 10,
     "metadata": {},
     "output_type": "execute_result"
    }
   ],
   "source": [
    "widgets.interact(\n",
    "    Normal_SD,\n",
    "    n = widgets.IntSlider(min=2, max=10,description='n=', step=1, value=2))"
   ]
  },
  {
   "cell_type": "code",
   "execution_count": null,
   "metadata": {
    "collapsed": true
   },
   "outputs": [],
   "source": []
  }
 ],
 "metadata": {
  "kernelspec": {
   "display_name": "Python 3",
   "language": "python",
   "name": "python3"
  },
  "language_info": {
   "codemirror_mode": {
    "name": "ipython",
    "version": 3
   },
   "file_extension": ".py",
   "mimetype": "text/x-python",
   "name": "python",
   "nbconvert_exporter": "python",
   "pygments_lexer": "ipython3",
   "version": "3.6.4"
  },
  "toc": {
   "nav_menu": {
    "height": "12px",
    "width": "252px"
   },
   "number_sections": true,
   "sideBar": true,
   "skip_h1_title": false,
   "toc_cell": false,
   "toc_position": {},
   "toc_section_display": "block",
   "toc_window_display": false
  },
  "widgets": {
   "state": {
    "38c79684961143ad9ea6234967ca5f9c": {
     "views": [
      {
       "cell_index": 4
      }
     ]
    },
    "3efbe598c9934eb081c32184b039b2b1": {
     "views": [
      {
       "cell_index": 10
      }
     ]
    },
    "aa755e491d574b2c8a71513ef48637cf": {
     "views": [
      {
       "cell_index": 7
      }
     ]
    },
    "d550a8f8336d4ecf9fbb1ca8e6e90c0e": {
     "views": [
      {
       "cell_index": 16
      }
     ]
    },
    "df67b24870e14cff8d47c0d1e2abad8b": {
     "views": [
      {
       "cell_index": 12
      }
     ]
    }
   },
   "version": "1.2.0"
  }
 },
 "nbformat": 4,
 "nbformat_minor": 2
}
