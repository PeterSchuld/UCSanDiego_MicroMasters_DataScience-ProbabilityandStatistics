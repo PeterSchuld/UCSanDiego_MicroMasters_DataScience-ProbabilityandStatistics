{
 "cells": [
  {
   "cell_type": "markdown",
   "metadata": {
    "slideshow": {
     "slide_type": "slide"
    }
   },
   "source": [
    "## Matrices  -----  Notation and Operations"
   ]
  },
  {
   "cell_type": "markdown",
   "metadata": {
    "slideshow": {
     "slide_type": "slide"
    }
   },
   "source": [
    "## Matrix notation\n",
    "<a href=\"https://en.wikipedia.org/wiki/Matrix_(mathematics)\">Matrix Notation</a> is a notation system that allows succinct representation of complex operations, such as a change of basis. \n",
    "<img style=\"float: right;width:500px;height:500px\" src=\"images/Matrix.svg.png\">\n"
   ]
  },
  {
   "cell_type": "markdown",
   "metadata": {
    "slideshow": {
     "slide_type": "subslide"
    }
   },
   "source": [
    "* **Matlab** is based on Matrix Notation.\n",
    "\n",
    "* **Python**: similar functionality by using **numpy**"
   ]
  },
  {
   "cell_type": "markdown",
   "metadata": {
    "slideshow": {
     "slide_type": "skip"
    }
   },
   "source": [
    "Recall that a **vector** can be represented as a one dimensional array of numbers. A **matrix** is a two dimensional rectangle of numbers. A matrix consists of rows, indexed from the top to the bottom and of columns, indexed from the left to the right. As is described in the  figure.\n",
    "\n",
    "A matrix with $n$ rows and $m$ columns is said to be an \"$m$ by $n$ matrix\".\n",
    "In numpy we will say that the **shape** of the matrix is $(m,n)$. We will also use the LaTeX notation $M_{m \\times n}$ to indicate that $M$ is an $m \\times n$ matrix."
   ]
  },
  {
   "cell_type": "markdown",
   "metadata": {
    "slideshow": {
     "slide_type": "slide"
    }
   },
   "source": [
    "### Transposing a Matrix\n",
    "\n",
    "At times it is useful to switch the rows and column dimensions of matrices.  Consider the matrix\n",
    "$$\n",
    "\\begin{equation}\n",
    "\tA=\\begin{bmatrix}\n",
    "\t  a_{11} & a_{12} \\\\\n",
    "\t  a_{21} & a_{22} \\\\\n",
    "\t  a_{31} & a_{32} \t\n",
    "\t\\end{bmatrix}\n",
    "\\end{equation}\n",
    "$$\n",
    "The transpose of A  is\n",
    "$$\n",
    "\\begin{equation}\n",
    "   A^{\\mathsf{T}}=\\begin{bmatrix}\n",
    "\t  a_{11} & a_{21} & a_{31} \\\\\n",
    "\t  a_{12} & a_{22} & a_{32} \\\\\n",
    "\t\\end{bmatrix}\n",
    "\\end{equation}\n",
    "$$"
   ]
  },
  {
   "cell_type": "code",
   "execution_count": null,
   "metadata": {
    "hide_input": true,
    "slideshow": {
     "slide_type": "subslide"
    }
   },
   "outputs": [],
   "source": [
    "import numpy as np\n",
    "# The .reshape command reorganized the elements of a matrix into a new shape\n",
    "A = np.array(range(6))\n",
    "print('A=',A)\n",
    "B=A.reshape(2,3)\n",
    "print(\"B is a 2X3 matrix:\\n\",B)\n",
    "print(\"the shape of B is:\",B.shape)\n",
    "print(\"The transpose of B is\\n\",B.T)\n",
    "print(\"the shape of B.T is:\",B.T.shape)"
   ]
  },
  {
   "cell_type": "markdown",
   "metadata": {
    "slideshow": {
     "slide_type": "skip"
    }
   },
   "source": [
    "### Vectors as matrices.\n",
    "When using matrix notation, vectors can be represented as either [row or column vectors](https://en.wikipedia.org/wiki/Row_and_column_vectors). In a matrix context, a vector $\\vec{v}$ is denoted by a bold-face letter. ${\\bf v}$ for a column vector and ${\\bf v}^\\top$ for row vector:"
   ]
  },
  {
   "cell_type": "markdown",
   "metadata": {
    "slideshow": {
     "slide_type": "subslide"
    }
   },
   "source": [
    "* By default a vector is represented as a **column vector** which is a matrix consisting of a single column:\n",
    "$$\n",
    "\\begin{equation}\n",
    "{\\bf v}=\n",
    "\t\\begin{bmatrix}\n",
    "\t  v_1 \\\\\n",
    "      v_2 \\\\\n",
    "      \\vdots \\\\\n",
    "\t  v_d\n",
    "\t\\end{bmatrix}\n",
    "\\end{equation}\n",
    "$$"
   ]
  },
  {
   "cell_type": "markdown",
   "metadata": {
    "slideshow": {
     "slide_type": "subslide"
    }
   },
   "source": [
    "* If $\\vec{v}$ is a column vector then the **transpose** of $\\vec{v}$, denoted by $\\vec{v}^\\top$ is a **row vector** which is a matrix consists of a single row:\n",
    "$$\n",
    "\\begin{equation}\n",
    "{\\bf v}^{\\top}=\n",
    "\t\\begin{bmatrix}\n",
    "\t  v_1 & v_2 & \\cdots & v_d\n",
    "\t\\end{bmatrix}\n",
    "\\end{equation}\n",
    "$$"
   ]
  },
  {
   "cell_type": "markdown",
   "metadata": {
    "slideshow": {
     "slide_type": "subslide"
    }
   },
   "source": [
    "#### A vector as a matrix\n",
    "Row and Column vectors can be thought of as matrices.\n",
    "* The column vector ${\\bf v}$ is a $d \\times 1$ matrix.\n",
    "* The row vector ${\\bf v}^{\\top}$ is a $1 \\times d$ matrix."
   ]
  },
  {
   "cell_type": "markdown",
   "metadata": {
    "slideshow": {
     "slide_type": "slide"
    }
   },
   "source": [
    "#### A matrix as a collection of vectors\n",
    "\n",
    "Matrices can be represented as a collection of vectors. For example, consider the $2\\times 3$ matrix ${\\bf A}=\\begin{bmatrix}\n",
    "\t  a_{11} & a_{12} & a_{13}\\\\\n",
    "\t  a_{21} & a_{22} & a_{23}\t\n",
    "\t\\end{bmatrix}$"
   ]
  },
  {
   "cell_type": "markdown",
   "metadata": {
    "slideshow": {
     "slide_type": "subslide"
    }
   },
   "source": [
    "We can represent ${\\bf A}=\\begin{bmatrix}\n",
    "\t  a_{11} & a_{12} & a_{13}\\\\\n",
    "\t  a_{21} & a_{22} & a_{23}\t\n",
    "\t\\end{bmatrix}$ as vectors in one of two ways:\n",
    "* As a row of column vectors:\n",
    "$$ {\\bf A} = \\begin{bmatrix} {\\bf c}_1 , {\\bf c}_2 , {\\bf c}_3 \\end{bmatrix}$$\n",
    "where\n",
    "$$\n",
    "   {\\bf c}_1=\\begin{bmatrix} a_{11}\\\\ a_{21} \\end{bmatrix},\n",
    "   {\\bf c}_2=\\begin{bmatrix} a_{12}\\\\ a_{22} \\end{bmatrix}, \n",
    "   {\\bf c}_3=\\begin{bmatrix} a_{13}\\\\ a_{23} \\end{bmatrix}$$"
   ]
  },
  {
   "cell_type": "markdown",
   "metadata": {
    "slideshow": {
     "slide_type": "subslide"
    }
   },
   "source": [
    "* Or as a column of row vectors: $\n",
    "{\\bf A} = \\begin{bmatrix} {\\bf r}_1 \\\\ {\\bf r}_2 \\end{bmatrix}$  \n",
    "where $\n",
    "   {\\bf r}_1=\\begin{bmatrix} a_{11}, a_{12}, a_{13} \\end{bmatrix},\n",
    "   {\\bf r}_2=\\begin{bmatrix} a_{21}, a_{22}, a_{23} \\end{bmatrix}, \n",
    "$"
   ]
  },
  {
   "cell_type": "code",
   "execution_count": null,
   "metadata": {
    "scrolled": true,
    "slideshow": {
     "slide_type": "slide"
    }
   },
   "outputs": [],
   "source": [
    "A=np.array(range(6)).reshape(2,3)\n",
    "print('A=\\n',A)"
   ]
  },
  {
   "cell_type": "code",
   "execution_count": null,
   "metadata": {
    "code_folding": [],
    "slideshow": {
     "slide_type": "subslide"
    }
   },
   "outputs": [],
   "source": [
    "print(\"Splitting A into columns:\")\n",
    "Columns=np.split(A,3,axis=1)\n",
    "for i in range(len(Columns)):\n",
    "    print('column %d'%i)\n",
    "    print(Columns[i])"
   ]
  },
  {
   "cell_type": "code",
   "execution_count": null,
   "metadata": {
    "scrolled": true,
    "slideshow": {
     "slide_type": "subslide"
    }
   },
   "outputs": [],
   "source": [
    "A_recon=np.concatenate(Columns,axis=1)\n",
    "print('reconstructing the matrix from the columns:')\n",
    "print(A_recon)\n",
    "print('Checking that the reconstruction is equal to the original')\n",
    "print(A_recon==A)"
   ]
  },
  {
   "cell_type": "code",
   "execution_count": null,
   "metadata": {
    "code_folding": [],
    "slideshow": {
     "slide_type": "skip"
    }
   },
   "outputs": [],
   "source": [
    "print(\"Splitting A into rows:\")\n",
    "Rows=np.split(A,2,axis=0)\n",
    "\n",
    "for i in range(len(Rows)):\n",
    "    print('row %d'%i)\n",
    "    print(Rows[i])"
   ]
  },
  {
   "cell_type": "code",
   "execution_count": null,
   "metadata": {
    "scrolled": true,
    "slideshow": {
     "slide_type": "skip"
    }
   },
   "outputs": [],
   "source": [
    "A_recon=np.concatenate(Rows,axis=0)\n",
    "\n",
    "print('reconstructing the matrix from the rows:')\n",
    "print(A_recon)\n",
    "print('Checking that the reconstruction is equal to the original')\n",
    "print(A_recon==A)"
   ]
  },
  {
   "cell_type": "markdown",
   "metadata": {
    "slideshow": {
     "slide_type": "skip"
    }
   },
   "source": [
    "#### Numpy functions\n",
    "Beyond the commands `reshape`, `split` and `concatanate` numpy has a rich set of functions to manipulate arrays, for a complete list see [Numpy Array Manipulation routines](https://docs.scipy.org/doc/numpy/reference/routines.array-manipulation.html)"
   ]
  },
  {
   "cell_type": "markdown",
   "metadata": {
    "slideshow": {
     "slide_type": "slide"
    }
   },
   "source": [
    "### Matrix - scalar operations\n",
    "\n",
    "You can add/subtract multiply/divide a scalar from a matrix"
   ]
  },
  {
   "cell_type": "markdown",
   "metadata": {
    "slideshow": {
     "slide_type": "subslide"
    }
   },
   "source": [
    "#### Adding a scalar value to a matrix\n",
    "\n",
    "Let $A$=$\\bigl[ \\begin{smallmatrix} a_{11} & a_{12} \\\\ a_{21} & a_{22} \\end{smallmatrix} \\bigr]$.  Here is how we would add the scalar $3$ to $A$:\n",
    "$$\n",
    "\\begin{equation}\n",
    "\tA+3=\\begin{bmatrix}\n",
    "\t  a_{11} & a_{12} \\\\\n",
    "\t  a_{21} & a_{22} \t\n",
    "\t\\end{bmatrix}+3\n",
    "\t=\\begin{bmatrix}\n",
    "\t  a_{11}+3 & a_{12}+3 \\\\\n",
    "\t  a_{21}+3 & a_{22}+3 \t\n",
    "\t\\end{bmatrix}\n",
    "\\end{equation}\n",
    "$$"
   ]
  },
  {
   "cell_type": "markdown",
   "metadata": {
    "collapsed": true,
    "slideshow": {
     "slide_type": "subslide"
    }
   },
   "source": [
    "#### Subtracting a scalar value to a matrix\n",
    "Substraction is similar\n",
    "$$\n",
    "\\begin{equation}\n",
    "\tA-3=\\begin{bmatrix}\n",
    "\t  a_{11} & a_{12} \\\\\n",
    "\t  a_{21} & a_{22} \t\n",
    "\t\\end{bmatrix}-3\n",
    "\t=\\begin{bmatrix}\n",
    "\t  a_{11}-3 & a_{12}-3 \\\\\n",
    "\t  a_{21}-3 & a_{22}-3 \t\n",
    "\t\\end{bmatrix}\n",
    "\\end{equation}\n",
    "$$"
   ]
  },
  {
   "cell_type": "markdown",
   "metadata": {
    "slideshow": {
     "slide_type": "subslide"
    }
   },
   "source": [
    "#### Product of a scalar and a matrix\n",
    "\n",
    "Multiplication is also similar\n",
    "$$\n",
    "\\begin{equation}\n",
    "\t3 \\times A = 3 \\times \\begin{bmatrix}\n",
    "\t  a_{11} & a_{12} \\\\\n",
    "\t  a_{21} & a_{22} \t\n",
    "\t\\end{bmatrix}\n",
    "\t=\n",
    "\t\\begin{bmatrix}\n",
    "\t  3a_{11} & 3a_{12} \\\\\n",
    "\t  3a_{21} & 3a_{22} \t\n",
    "\t\\end{bmatrix}\n",
    "\\end{equation}\n",
    "$$"
   ]
  },
  {
   "cell_type": "markdown",
   "metadata": {
    "slideshow": {
     "slide_type": "subslide"
    }
   },
   "source": [
    "#### Dividing a matrix by a scalar\n",
    "Division by $a$ is the same as multiplying by $1/a$. Note that you cn divide a matrix by a scalar, but dividing a scalar by a matrix is not defined.\n",
    "$$\n",
    "\\begin{equation}\n",
    "\tA/5= A \\times \\frac{1}{5}= \\begin{bmatrix}\n",
    "\t  a_{11}/5 & a_{12}/5 \\\\\n",
    "\t  a_{21}/5 & a_{22}/5 \t\n",
    "\t\\end{bmatrix}\n",
    "\\end{equation}\n",
    "$$"
   ]
  },
  {
   "cell_type": "code",
   "execution_count": null,
   "metadata": {
    "slideshow": {
     "slide_type": "skip"
    }
   },
   "outputs": [],
   "source": [
    "# Some examples of matrix-scalar operations using numpy\n",
    "print('A=\\n',A)\n",
    "print('A+3=3+A=\\n',A+3)  # addition\n",
    "\n",
    "print('A*3=\\n',A*3)  # product\n",
    "\n",
    "print('A/2=\\n',A/2)  # integer division\n",
    "print('A/2.=\\n',A/2.)  # floating point division"
   ]
  },
  {
   "cell_type": "markdown",
   "metadata": {
    "slideshow": {
     "slide_type": "slide"
    }
   },
   "source": [
    "### Adding and subtracting two matrices\n",
    "Let $A$=$\\bigl[ \\begin{smallmatrix} a_{11} & a_{12} \\\\ a_{21} & a_{22} \\end{smallmatrix} \\bigr]$ and $B$=$\\bigl[ \\begin{smallmatrix} b_{11} & b_{12} \\\\ b_{21} & b_{22} \\end{smallmatrix} \\bigr]$.  To compute $A-B$, subtract each element of B from the corresponding element of A:\n",
    "\n",
    "$\n",
    "\tA -B =\n",
    "\t\\begin{bmatrix}\n",
    "\t  a_{11} & a_{12} \\\\\n",
    "\t  a_{21} & a_{22} \t\n",
    "\t\\end{bmatrix} -\n",
    "\t\\begin{bmatrix} b_{11} & b_{12} \\\\\n",
    "\t  b_{21} & b_{22}\n",
    "\t\\end{bmatrix} $\n",
    "\n",
    "$\t=\n",
    "\t\\begin{bmatrix}\n",
    "\t  a_{11}-b_{11} & a_{12}-b_{12} \\\\\n",
    "\t  a_{21}-b_{21} & a_{22}-b_{22} \t\n",
    "\t\\end{bmatrix}\n",
    "$"
   ]
  },
  {
   "cell_type": "markdown",
   "metadata": {
    "slideshow": {
     "slide_type": "skip"
    }
   },
   "source": [
    "Addition works exactly the same way:\n",
    "\n",
    "$\tA + B =\n",
    "\t\\begin{bmatrix}\n",
    "\t  a_{11} & a_{12} \\\\\n",
    "\t  a_{21} & a_{22} \t\n",
    "\t\\end{bmatrix} +\n",
    "\t\\begin{bmatrix} b_{11} & b_{12} \\\\\n",
    "\t  b_{21} & b_{22}\n",
    "\t\\end{bmatrix} $\n",
    "    \n",
    "$\t=\n",
    "\t\\begin{bmatrix}\n",
    "\t  a_{11}+b_{11} & a_{12}+b_{12} \\\\\n",
    "\t  a_{21}+b_{21} & a_{22}+b_{22} \t\n",
    "\t\\end{bmatrix}\n",
    "$"
   ]
  },
  {
   "cell_type": "markdown",
   "metadata": {
    "slideshow": {
     "slide_type": "skip"
    }
   },
   "source": [
    "An important point to know about matrix addition and subtraction is that it is only defined when $A$ and $B$ are of the same size.  Here, both are $2 \\times 2$.  Since operations are performed element by element, these two matrices must be conformable- and for addition and subtraction that means they must have the same numbers of rows and columns.  I like to be explicit about the dimensions of matrices for checking conformability as I write the equations, so write\n",
    "\n",
    "$$\n",
    "A_{2 \\times 2} + B_{2 \\times 2}= \\begin{bmatrix}\n",
    "  a_{11}+b_{11} & a_{12}+b_{12} \\\\\n",
    "  a_{21}+b_{21} & a_{22}+b_{22} \t\n",
    "\\end{bmatrix}_{2 \\times 2}\n",
    "$$\n",
    "\n",
    "Notice that the result of a matrix addition or subtraction operation is always of the same dimension as the two operands.\n",
    "\n",
    "Let's define another matrix, B, that is also $2 \\times 2$ and add it to A:"
   ]
  },
  {
   "cell_type": "code",
   "execution_count": null,
   "metadata": {
    "slideshow": {
     "slide_type": "skip"
    }
   },
   "outputs": [],
   "source": [
    "B = np.random.randn(2,2)\n",
    "print(B)"
   ]
  },
  {
   "cell_type": "code",
   "execution_count": null,
   "metadata": {
    "slideshow": {
     "slide_type": "skip"
    }
   },
   "outputs": [],
   "source": [
    "try:\n",
    "    result = A + B\n",
    "except Exception as e: \n",
    "    print(e)"
   ]
  },
  {
   "cell_type": "markdown",
   "metadata": {
    "slideshow": {
     "slide_type": "slide"
    }
   },
   "source": [
    "### Matrix-Matrix products"
   ]
  },
  {
   "cell_type": "markdown",
   "metadata": {
    "slideshow": {
     "slide_type": "slide"
    }
   },
   "source": [
    "#### The dot product of two vectors\n",
    "* Recall that a vector is just a skinny matrix.\n",
    "* Consider the dot product $(1,2,3) \\cdot (1,1,0) = 1 \\times 1 + 2 \\times 1 +3 \\times 0= 3$."
   ]
  },
  {
   "cell_type": "markdown",
   "metadata": {
    "slideshow": {
     "slide_type": "subslide"
    }
   },
   "source": [
    "Conventions of dot product in matrix notation:\n",
    "  * The first vector is a row vector and the second vector is a column vector.\n",
    "  * There is no operator ($\\cdot$) between the two vectors\n",
    "  \n",
    "$$\n",
    "   \\begin{bmatrix} 1,2,3 \\end{bmatrix}\n",
    "   \\begin{bmatrix} 1 \\\\ 1 \\\\ 0 \\end{bmatrix} = 1 \\times 1 + 2 \\times 1 +3 \\times 0= 3\n",
    "$$"
   ]
  },
  {
   "cell_type": "markdown",
   "metadata": {
    "slideshow": {
     "slide_type": "slide"
    }
   },
   "source": [
    "#### The dot product of a matrix and a vector\n",
    "\n",
    "To multiply the matrix ${\\bf A}=\\begin{bmatrix}\n",
    "\t  a_{11} & a_{12} & a_{13}\\\\\n",
    "\t  a_{21} & a_{22} & a_{23}\t\n",
    "\t\\end{bmatrix}$\n",
    "by the column vector ${\\bf c}=\\begin{bmatrix} c_1 \\\\ c_2 \\\\ c_3 \\end{bmatrix}$  "
   ]
  },
  {
   "cell_type": "markdown",
   "metadata": {
    "slideshow": {
     "slide_type": "subslide"
    }
   },
   "source": [
    "We think of ${\\bf A}$ as consisting or two row vectors:\n",
    "${\\bf A} = \\begin{bmatrix} {\\bf r}_1 \\\\ {\\bf r}_2 \\end{bmatrix}$  \n",
    "where $\n",
    "   {\\bf r}_1=\\begin{bmatrix} a_{11}, a_{12}, a_{13} \\end{bmatrix},\n",
    "   {\\bf r}_2=\\begin{bmatrix} a_{21}, a_{22}, a_{23} \\end{bmatrix}, \n",
    "$\n",
    "\n",
    "and take the dot products of ${\\bf r}_1,{\\bf r}_2$ with ${\\bf c}$ to create a column vector of dimension 2:\n",
    "\n",
    "${\\bf A} {\\bf c} = \\begin{bmatrix} {\\bf r}_1 {\\bf c} \\\\ {\\bf r}_2 {\\bf c} \\end{bmatrix}\n",
    " = \\begin{bmatrix}\n",
    "\t  a_{11}c_1 + a_{12}c_2 + a_{13} c_3 \\\\\n",
    "\t  a_{21}c_1 + a_{22}c_2 + a_{23} c_3\t\n",
    "\t\\end{bmatrix}$"
   ]
  },
  {
   "cell_type": "markdown",
   "metadata": {
    "slideshow": {
     "slide_type": "slide"
    }
   },
   "source": [
    "#### Dot product of two matrices\n",
    "\n",
    "Multiplying a matrix and a column vector can be generalized to multiplying two matrices.\n",
    "\n",
    "\n",
    "\n",
    "To do so we think of \n",
    "Alternatively, consider a matrix ${\\bf C}$ of size $2 \\times 3$ and a matrix ${\\bf A}$ of size $3 \\times 2$\n",
    "\n",
    "$$\n",
    "\\begin{equation}\n",
    "\t{\\bf A}=\\begin{bmatrix}\n",
    "\t  a_{11} & a_{12} \\\\\n",
    "\t  a_{21} & a_{22} \\\\\n",
    "\t  a_{31} & a_{32} \t\n",
    "\t\\end{bmatrix}\n",
    "\t,\n",
    "\t{\\bf C} = \n",
    "\t\\begin{bmatrix}\n",
    "\t\t  c_{11} & c_{12} & c_{13} \\\\\n",
    "\t\t  c_{21} & c_{22} & c_{23} \n",
    "\t\\end{bmatrix}\n",
    "\t\\end{equation}\n",
    "$$"
   ]
  },
  {
   "cell_type": "markdown",
   "metadata": {
    "slideshow": {
     "slide_type": "subslide"
    }
   },
   "source": [
    "To compute ${\\bf AC}$ we think of ${\\bf A}$ as a column of row vectors:\n",
    "${\\bf A} =\\begin{bmatrix}\n",
    "\t  {\\bf a}_1 \\\\\n",
    "\t  {\\bf a}_2 \\\\\n",
    "\t  {\\bf a}_3\t\n",
    "\t\\end{bmatrix}\n",
    "    $\n",
    "    \n",
    "and of ${\\bf C}$ as a row of column vectors: ${\\bf C} =\\begin{bmatrix}\n",
    "\t  {\\bf c}_1,\n",
    "\t  {\\bf c}_2,\n",
    "\t  {\\bf c}_3\t\n",
    "\t\\end{bmatrix}\n",
    "    $"
   ]
  },
  {
   "cell_type": "markdown",
   "metadata": {
    "slideshow": {
     "slide_type": "subslide"
    }
   },
   "source": [
    "${\\bf AC}$ is the matrix generated from taking the dot product of each row vector in ${\\bf A}$ with each column vector in ${\\bf C}$\n",
    "\n",
    "${\\bf AC}=\n",
    "\t\\begin{bmatrix}\n",
    "\t  {\\bf a}_1 \\\\\n",
    "\t  {\\bf a}_2 \\\\\n",
    "\t  {\\bf a}_3\t\t\n",
    "\t\\end{bmatrix}\n",
    "\t\\begin{bmatrix}\n",
    "\t  {\\bf c}_1,\n",
    "\t  {\\bf c}_2,\n",
    "\t  {\\bf c}_3\n",
    "\t\\end{bmatrix}\n",
    "= \\begin{bmatrix}\n",
    "    {\\bf a}_1 \\cdot {\\bf c}_1 & {\\bf a}_1 \\cdot {\\bf c}_2 & {\\bf a}_1 \\cdot {\\bf c}_3 \\\\\n",
    "    {\\bf a}_2 \\cdot {\\bf c}_1 & {\\bf a}_2 \\cdot {\\bf c}_2 & {\\bf a}_2 \\cdot {\\bf c}_3 \\\\\n",
    "    {\\bf a}_3 \\cdot {\\bf c}_1 & {\\bf a}_3 \\cdot {\\bf c}_2 & {\\bf a}_3 \\cdot {\\bf c}_3\n",
    "    \\end{bmatrix} =\n",
    "    $"
   ]
  },
  {
   "cell_type": "markdown",
   "metadata": {
    "slideshow": {
     "slide_type": "subslide"
    }
   },
   "source": [
    "$= \\begin{bmatrix}\n",
    "\t  a_{11} c_{11}+a_{12} c_{21} & a_{11} c_{12}+a_{12} c_{22} & a_{11} c_{13}+a_{12} c_{23} \\\\\n",
    "\t  a_{21} c_{11}+a_{22} c_{21} & a_{21} c_{12}+a_{22} c_{22} & a_{21} c_{13}+a_{22} c_{23} \\\\\n",
    "\t  a_{31} c_{11}+a_{32} c_{21} & a_{31} c_{12}+a_{32} c_{22} & a_{31} c_{13}+a_{32} c_{23}\n",
    "\t\\end{bmatrix}\n",
    "$\n",
    "    \n",
    "For more information on the topic of matrix multiplication, see \n",
    "http://en.wikipedia.org/wiki/Matrix_multiplication."
   ]
  },
  {
   "cell_type": "code",
   "execution_count": null,
   "metadata": {
    "slideshow": {
     "slide_type": "skip"
    }
   },
   "outputs": [],
   "source": [
    "# Matrix - Vector product\n",
    "A = np.arange(6).reshape((3,2))\n",
    "C = np.array([-1,1])\n",
    "\n",
    "print(A.shape)\n",
    "print(C.shape)\n",
    "print(np.dot(A,C.T))"
   ]
  },
  {
   "cell_type": "code",
   "execution_count": null,
   "metadata": {
    "slideshow": {
     "slide_type": "skip"
    }
   },
   "outputs": [],
   "source": [
    "# Matrix - Matrix product\n",
    "\n",
    "# Define the matrices A and C\n",
    "A = np.arange(6).reshape((3,2))\n",
    "C = np.random.randn(2,2)\n",
    "\n",
    "print('A=\\n',A)\n",
    "print('C=\\n',C)"
   ]
  },
  {
   "cell_type": "markdown",
   "metadata": {
    "slideshow": {
     "slide_type": "skip"
    }
   },
   "source": [
    "We will use the numpy dot operator to perform the these multiplications.  You can use it two ways to yield the same result:"
   ]
  },
  {
   "cell_type": "code",
   "execution_count": null,
   "metadata": {
    "slideshow": {
     "slide_type": "skip"
    }
   },
   "outputs": [],
   "source": [
    "print('A.dot(C)=\\n',A.dot(C))\n",
    "print('np.dot(A,C)=\\n',np.dot(A,C))"
   ]
  },
  {
   "cell_type": "markdown",
   "metadata": {
    "slideshow": {
     "slide_type": "skip"
    }
   },
   "source": [
    "#### Conformity\n",
    "Note that the number of columns in the first matrix has to be equal to the number of columns in the second matrix. Otherwise, the matrix product is not defined. When this condition holds we say that the two matrices **conform**.\n",
    "\n",
    "Taking the product of two matrices that don't conform results in an exception:"
   ]
  },
  {
   "cell_type": "code",
   "execution_count": null,
   "metadata": {
    "slideshow": {
     "slide_type": "skip"
    }
   },
   "outputs": [],
   "source": [
    "np.dot(C,A)"
   ]
  },
  {
   "cell_type": "markdown",
   "metadata": {
    "slideshow": {
     "slide_type": "slide"
    }
   },
   "source": [
    "## Orthonormal matrices and change of Basis\n",
    "**As was explained in the notebook: \"Linear Algebra Review\"**"
   ]
  },
  {
   "cell_type": "markdown",
   "metadata": {
    "slideshow": {
     "slide_type": "skip"
    }
   },
   "source": [
    "We say that the vectors $\\vec{u}_1,\\vec{u}_2,\\ldots,\\vec{u}_d \\in R^d$ form an **orthonormal basis** of $R^d$. If:\n",
    "* **Normality:** $\\vec{u}_1,\\vec{u}_2,\\ldots,\\vec{u}_d$ are unit vectors: $\\forall 1 \\leq i \\leq d: \\vec{u}_i \\cdot \\vec{u}_i =1 $\n",
    "* **Orthogonality:** Every pair of vectors are orthogonal: \n",
    "$\\forall 1 \\leq i\\neq j \\leq d: \\vec{u}_i \\cdot \\vec{u}_j =0 $\n",
    "\n",
    "** Orthonormal basis can be used to rotate the vector space:**\n",
    "* $\\vec{v}$ is **represented** as a list of $d$ dot products: $$[\\vec{v}\\cdot\\vec{u_1},\\vec{v}\\cdot\\vec{u_2},\\ldots,\\vec{v}\\cdot\\vec{u_d}]$$\n",
    "* $\\vec{v}$ is **reconstructed** by summing its projections on the basis vectors:\n",
    "$$\\vec{v} = (\\vec{v}\\cdot\\vec{u_1})\\vec{u_1} + (\\vec{v}\\cdot\\vec{u_2})\\vec{u_2} + \\cdots + (\\vec{v}\\cdot\\vec{u_d})\\vec{u_d}$$"
   ]
  },
  {
   "cell_type": "markdown",
   "metadata": {
    "slideshow": {
     "slide_type": "slide"
    }
   },
   "source": [
    "### Change of Basis using matrix notation\n",
    "To use matrix notation, we think of $\\vec{u}_i$ as a row vector:\n",
    "$$\n",
    "   {\\bf u}_i=\\begin{bmatrix} u_{i1}, u_{i2},\\ldots, u_{id} \\end{bmatrix},\n",
    "$$"
   ]
  },
  {
   "cell_type": "markdown",
   "metadata": {
    "slideshow": {
     "slide_type": "subslide"
    }
   },
   "source": [
    "We can combine the orthonormal vectors to create an *orthonormal matrix*\n",
    "\n",
    "$$ {\\bf U} = \\begin{bmatrix} {\\bf u}_1 \\\\ {\\bf u}_2 \\\\ \\vdots \\\\ {\\bf u}_d \\end{bmatrix}\n",
    "= \\begin{bmatrix} \n",
    "u_{11}, u_{12},\\ldots, u_{1d} \\\\ \n",
    "u_{21}, u_{22},\\ldots, u_{2d} \\\\ \n",
    "\\vdots\\\\\n",
    "u_{d1}, u_{d2},\\ldots, u_{dd} \n",
    "\\end{bmatrix}\n",
    "$$\n",
    "\n",
    "Orthonormality: ${\\bf UU^{\\top} = I}$"
   ]
  },
  {
   "cell_type": "markdown",
   "metadata": {
    "slideshow": {
     "slide_type": "subslide"
    }
   },
   "source": [
    "Using this notation, the representation of a column vector $\\bf v$ in the orthonormal basis corresponsing to the rows of ${\\bf U}$ is equal to \n",
    "\n",
    "$${\\bf Uv} = \\begin{bmatrix} {\\bf u}_1 {\\bf v} \\\\ {\\bf u}_2 {\\bf v} \\\\ \\vdots \\\\ {\\bf u}_d {\\bf v} \\end{bmatrix}$$  "
   ]
  },
  {
   "cell_type": "markdown",
   "metadata": {
    "slideshow": {
     "slide_type": "subslide"
    }
   },
   "source": [
    "And the reconstruction of $\\bf v$ is equal to ${\\bf U U^{\\mathsf{T}} v}$"
   ]
  },
  {
   "cell_type": "markdown",
   "metadata": {
    "slideshow": {
     "slide_type": "slide"
    }
   },
   "source": [
    "## The Identity  Matrix\n",
    "The identity matrix behaves like the number $1$: \n",
    "\n",
    "The dot product of any matrix ${\\bf A}$ by the identity matrix ${\\bf I}$ yields ${\\bf A}$.\n",
    "\n",
    "$$ {\\bf A I = I A = A} $$"
   ]
  },
  {
   "cell_type": "markdown",
   "metadata": {
    "slideshow": {
     "slide_type": "subslide"
    }
   },
   "source": [
    "The identity matrix is zero everywhere other than the diagonal, where it is $1$.\n",
    "\n",
    "$$\n",
    "{\\bf I} = \\begin{bmatrix} \n",
    "1, 0,\\ldots, 0 \\\\ \n",
    "0, 1,\\ldots, 0 \\\\ \n",
    "\\ddots \\\\\n",
    "0,0,\\ldots, 1 \n",
    "\\end{bmatrix}\n",
    "$$\n",
    "\n",
    "\n",
    "**Excercise:** Check that ${\\bf A I = I A = A}$."
   ]
  },
  {
   "cell_type": "markdown",
   "metadata": {
    "slideshow": {
     "slide_type": "slide"
    }
   },
   "source": [
    "## Inverting a Matrix"
   ]
  },
  {
   "cell_type": "markdown",
   "metadata": {
    "slideshow": {
     "slide_type": "subslide"
    }
   },
   "source": [
    "Recall that the multiplicative inverse of the number $a$ is $a^{-1}=1/a$\n",
    "\n",
    "The property of $a^{-1}$ is that $a a^{-1}=1$.\n",
    "\n",
    "Recall also that $0$ does not have a multiplicative inverse."
   ]
  },
  {
   "cell_type": "markdown",
   "metadata": {
    "slideshow": {
     "slide_type": "subslide"
    }
   },
   "source": [
    "**Some** square matrices ${\\bf A}$ have a multiplicative inverse ${\\bf A^{-1}}$  \n",
    "such that ${\\bf A A^{-1} = A^{-1} A =I}$"
   ]
  },
  {
   "cell_type": "markdown",
   "metadata": {
    "slideshow": {
     "slide_type": "fragment"
    }
   },
   "source": [
    "Finding the inverse of a matrix is called *inverting* the matrix.  "
   ]
  },
  {
   "cell_type": "markdown",
   "metadata": {
    "slideshow": {
     "slide_type": "skip"
    }
   },
   "source": [
    "An $n\\times n$ matrix $\\bf A$ represents a linear transformation from $R^n$ to $R^n$. If the matrix is [**invertible**](https://en.wikipedia.org/wiki/Invertible_matrix) then there is another transformation ${\\bf A}^{-1}$ that represents the inverse transformation, such that for any column vctor ${\\bf v} \\in R^n$:\n",
    "$${\\bf A}^{-1}{\\bf A}{\\bf v} = {\\bf A}{\\bf A}^{-1}{\\bf v} = {\\bf v} $$"
   ]
  },
  {
   "cell_type": "markdown",
   "metadata": {
    "slideshow": {
     "slide_type": "subslide"
    }
   },
   "source": [
    "### Inverting a 2X2 matrix\n",
    "Consider the square $2 \\times 2$ matrix ${\\bf A} = \\bigl( \\begin{smallmatrix} a_{11} & a_{12} \\\\ a_{21} & a_{22}\\end{smallmatrix} \\bigr)$.  The inverse of matrix ${\\bf A}$ is\n",
    "\n",
    "$$\n",
    "\\begin{equation}\n",
    "\t{\\bf A}^{-1}=\\begin{bmatrix}\n",
    "             a_{11} & a_{12} \\\\\n",
    "\t\t     a_{21} & a_{22} \n",
    "           \\end{bmatrix}^{-1}=\\frac{1}{a_{11}a_{22}-a_{12}a_{21}}\t\\begin{bmatrix}\n",
    "\t\t             a_{22} & -a_{12} \\\\\n",
    "\t\t\t\t     -a_{21} & a_{11} \n",
    "\t\t           \\end{bmatrix}\n",
    "\\end{equation}\n",
    "$$"
   ]
  },
  {
   "cell_type": "markdown",
   "metadata": {
    "slideshow": {
     "slide_type": "subslide"
    }
   },
   "source": [
    "**Excercise:** Check that $ {\\bf A A^{-1}=A^{-1} A=I }$"
   ]
  },
  {
   "cell_type": "markdown",
   "metadata": {
    "slideshow": {
     "slide_type": "skip"
    }
   },
   "source": [
    "For more information on inverting matrices, see this\n",
    "http://en.wikipedia.org/wiki/Matrix_inversion."
   ]
  },
  {
   "cell_type": "code",
   "execution_count": null,
   "metadata": {
    "slideshow": {
     "slide_type": "subslide"
    }
   },
   "outputs": [],
   "source": [
    "# An example of computing the inverse using numpy.linalg.inv\n",
    "# note, we need a square matrix (# rows = # cols), use C:\n",
    "C = np.random.randn(2,2)\n",
    "print(\"C=\\n\",C)\n",
    "C_inverse = np.linalg.inv(C)\n",
    "print(\"C_inverse=\\n\",C_inverse)"
   ]
  },
  {
   "cell_type": "markdown",
   "metadata": {
    "slideshow": {
     "slide_type": "skip"
    }
   },
   "source": [
    "Checking that $C\\times C^{-1} = I$:"
   ]
  },
  {
   "cell_type": "code",
   "execution_count": null,
   "metadata": {
    "scrolled": true,
    "slideshow": {
     "slide_type": "skip"
    }
   },
   "outputs": [],
   "source": [
    "I = np.eye(2)\n",
    "print(\"identity matrix=\\n\",I)\n",
    "print(\"C.dot(C_inverse)-I=\\n\",C.dot(C_inverse)-I)\n",
    "print(\"C_inverse.dot(C)-I=\\n\",C_inverse.dot(C)-I)"
   ]
  },
  {
   "cell_type": "markdown",
   "metadata": {
    "slideshow": {
     "slide_type": "slide"
    }
   },
   "source": [
    "### Singular matrices\n",
    "Not all matrices have an inverse. Those that do not are called **singular**"
   ]
  },
  {
   "cell_type": "code",
   "execution_count": null,
   "metadata": {
    "slideshow": {
     "slide_type": "subslide"
    }
   },
   "outputs": [],
   "source": [
    "C=np.array([[1,0],[1,0]])\n",
    "print(\"C=\\n\",C)\n",
    "try:\n",
    "    C_inverse = np.linalg.inv(C)\n",
    "except: \n",
    "    print('C cannot be inverted: it is a singular matrix')"
   ]
  },
  {
   "cell_type": "markdown",
   "metadata": {
    "slideshow": {
     "slide_type": "slide"
    }
   },
   "source": [
    "## Next video: solving a set of linear equations"
   ]
  }
 ],
 "metadata": {
  "celltoolbar": "Slideshow",
  "kernelspec": {
   "display_name": "Python [default]",
   "language": "python",
   "name": "python3"
  },
  "toc": {
   "base_numbering": 1,
   "nav_menu": {
    "height": "306px",
    "width": "252px"
   },
   "number_sections": true,
   "sideBar": true,
   "skip_h1_title": false,
   "title_cell": "Table of Contents",
   "title_sidebar": "Contents",
   "toc_cell": false,
   "toc_position": {
    "height": "486px",
    "left": "0px",
    "right": "893px",
    "top": "134px",
    "width": "183px"
   },
   "toc_section_display": "block",
   "toc_window_display": false
  },
  "varInspector": {
   "cols": {
    "lenName": 16,
    "lenType": 16,
    "lenVar": 40
   },
   "kernels_config": {
    "python": {
     "delete_cmd_postfix": "",
     "delete_cmd_prefix": "del ",
     "library": "var_list.py",
     "varRefreshCmd": "print(var_dic_list())"
    },
    "r": {
     "delete_cmd_postfix": ") ",
     "delete_cmd_prefix": "rm(",
     "library": "var_list.r",
     "varRefreshCmd": "cat(var_dic_list()) "
    }
   },
   "types_to_exclude": [
    "module",
    "function",
    "builtin_function_or_method",
    "instance",
    "_Feature"
   ],
   "window_display": false
  }
 },
 "nbformat": 4,
 "nbformat_minor": 1
}
