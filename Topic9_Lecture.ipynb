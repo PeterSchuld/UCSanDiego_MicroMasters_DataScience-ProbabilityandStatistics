{
 "cells": [
  {
   "cell_type": "markdown",
   "metadata": {},
   "source": [
    "# Continuous Probability Distributions\n",
    "## Uniform Distribution\n",
    "### PDF\n",
    "This section contains a code that plots the probability density function (PDF) of $U[a,b]$, the uniform distribution over the interval $[a,b]$. The output contains interactive sliders that you can use to vary  $a$ and $b$ over $[0,10]$. You can also adjust the maximum height of the portion of the $y$-axis displayed in the plot."
   ]
  },
  {
   "cell_type": "code",
   "execution_count": 1,
   "metadata": {},
   "outputs": [
    {
     "data": {
      "application/vnd.jupyter.widget-view+json": {
       "model_id": "ace190c642484d9c8008487d03351ff0",
       "version_major": 2,
       "version_minor": 0
      },
      "text/html": [
       "<p>Failed to display Jupyter Widget of type <code>interactive</code>.</p>\n",
       "<p>\n",
       "  If you're reading this message in the Jupyter Notebook or JupyterLab Notebook, it may mean\n",
       "  that the widgets JavaScript is still loading. If this message persists, it\n",
       "  likely means that the widgets JavaScript library is either not installed or\n",
       "  not enabled. See the <a href=\"https://ipywidgets.readthedocs.io/en/stable/user_install.html\">Jupyter\n",
       "  Widgets Documentation</a> for setup instructions.\n",
       "</p>\n",
       "<p>\n",
       "  If you're reading this message in another frontend (for example, a static\n",
       "  rendering on GitHub or <a href=\"https://nbviewer.jupyter.org/\">NBViewer</a>),\n",
       "  it may mean that your frontend doesn't currently support widgets.\n",
       "</p>\n"
      ],
      "text/plain": [
       "interactive(children=(FloatRangeSlider(value=(4.0, 6.0), continuous_update=False, description='[a, b]', max=10.0, step=0.01), FloatSlider(value=1.0, continuous_update=False, description='Maximum height', min=1.0, step=1.0), Output()), _dom_classes=('widget-interact',))"
      ]
     },
     "metadata": {},
     "output_type": "display_data"
    },
    {
     "data": {
      "text/plain": [
       "<function __main__.f>"
      ]
     },
     "execution_count": 1,
     "metadata": {},
     "output_type": "execute_result"
    }
   ],
   "source": [
    "# %load uniformonlypdf\n",
    "import numpy as np\n",
    "import matplotlib.pyplot as plt\n",
    "import ipywidgets as widgets\n",
    "def f(s, height):\n",
    "    a = s[0]\n",
    "    b = s[1]\n",
    "    x = np.linspace(a,b,11)\n",
    "    if b != a:\n",
    "        y = np.array([1/(b-a)]*11)\n",
    "    xrange = np.linspace(0, 10, 1001)\n",
    "    cdf = []\n",
    "    cdf.extend([0 for z in xrange if z<=a])\n",
    "    cdf.extend([(z-a)/(b-a) for z in xrange if z>a and z<=b])\n",
    "    cdf.extend([1 for z in xrange if z>b])\n",
    "    if b < a + 1/height:\n",
    "        #f = plt.figure()\n",
    "        #ax = f.add_subplot(111)\n",
    "        #plt.gcf().set_size_inches(20,10)\n",
    "        #plt.gca().set_xlim([0, 10])\n",
    "        #plt.gca().set_ylim([0, 2])\n",
    "        #ax.text(0.5, 0.8,'Please choose a and b such that |b - a| > %0.2f' %height, ha='center', va='center', transform=ax.transAxes, fontsize = 40, color = 'r')\n",
    "        if b != a:\n",
    "            plt.plot(x, y, linewidth = 3.0, label = 'PDF')\n",
    "        plt.gcf().set_size_inches(20,10)\n",
    "        plt.gca().set_xlim([0, 10])\n",
    "        plt.gca().set_ylim([0, 1.01*height])\n",
    "        plt.xticks(fontsize = 16)\n",
    "        plt.yticks(fontsize = 16)\n",
    "        if b != a:\n",
    "            plt.plot([a, a], [0, 1/(b-a)], 'g--', linewidth = 2.0)\n",
    "            plt.plot([b, b], [0, 1/(b-a)], 'g--', linewidth = 2.0)\n",
    "        plt.plot([(a + b)/2, (a + b)/2], [0, height,], 'm--', linewidth = 4.0)\n",
    "        plt.plot((a + b)/2, max(height,1), 'm^', markersize = 20)\n",
    "        plt.title('PDF of U(%0.2f,%0.2f)' %(a,b), fontsize = 20)\n",
    "        plt.xlabel('x', fontsize = 20)\n",
    "        plt.ylabel('y', fontsize = 20)\n",
    "        #plt.plot(xrange, cdf, 'r', linewidth = 3.0, label = 'CDF')\n",
    "        plt.legend(fontsize = 20)\n",
    "        plt.plot()\n",
    "    else:\n",
    "        plt.plot(x, y, linewidth = 3.0, label = 'PDF')\n",
    "        plt.gcf().set_size_inches(20,10)\n",
    "        plt.gca().set_xlim([0, 10])\n",
    "        plt.gca().set_ylim([0, 1.01*height])\n",
    "        plt.xticks(fontsize = 16)\n",
    "        plt.yticks(fontsize = 16)\n",
    "        plt.plot([a, a], [0, 1/(b-a)], 'g--', linewidth = 2.0)\n",
    "        plt.plot([b, b], [0, 1/(b-a)], 'g--', linewidth = 2.0)\n",
    "        plt.title('PDF of U(%0.2f,%0.2f)' %(a,b), fontsize = 20)\n",
    "        plt.xlabel('x', fontsize = 20)\n",
    "        plt.ylabel('y', fontsize = 20)\n",
    "        #plt.plot(xrange, cdf, 'r', linewidth = 3.0, label = 'CDF')\n",
    "        plt.legend(fontsize = 20)\n",
    "    plt.show()\n",
    "   # plt.plot(n, sum(abs(y0 - y))/n, 'o')\n",
    "   # plt.show()\n",
    "    \n",
    "w = widgets.FloatRangeSlider(\n",
    "    description = \"[a, b]\",\n",
    "    value=[4, 6],\n",
    "    min=0,\n",
    "    max=10,\n",
    "    step=0.01,\n",
    "    continuous_update = False)\n",
    "widgets.interact(f, s = w, height = widgets.FloatSlider(description = \"Maximum height\", min = 1, max = 100, value = 0.5, step = 1, continuous_update = False))"
   ]
  },
  {
   "cell_type": "markdown",
   "metadata": {},
   "source": [
    "### CDF"
   ]
  },
  {
   "cell_type": "markdown",
   "metadata": {},
   "source": [
    "The code below plots the cumulative density function (CDF) of $U[a,b]$ in addition to its PDF on the same plot."
   ]
  },
  {
   "cell_type": "code",
   "execution_count": 2,
   "metadata": {},
   "outputs": [
    {
     "data": {
      "application/vnd.jupyter.widget-view+json": {
       "model_id": "d6a791de89ef42829d15f1cbc5ac5d59",
       "version_major": 2,
       "version_minor": 0
      },
      "text/html": [
       "<p>Failed to display Jupyter Widget of type <code>interactive</code>.</p>\n",
       "<p>\n",
       "  If you're reading this message in the Jupyter Notebook or JupyterLab Notebook, it may mean\n",
       "  that the widgets JavaScript is still loading. If this message persists, it\n",
       "  likely means that the widgets JavaScript library is either not installed or\n",
       "  not enabled. See the <a href=\"https://ipywidgets.readthedocs.io/en/stable/user_install.html\">Jupyter\n",
       "  Widgets Documentation</a> for setup instructions.\n",
       "</p>\n",
       "<p>\n",
       "  If you're reading this message in another frontend (for example, a static\n",
       "  rendering on GitHub or <a href=\"https://nbviewer.jupyter.org/\">NBViewer</a>),\n",
       "  it may mean that your frontend doesn't currently support widgets.\n",
       "</p>\n"
      ],
      "text/plain": [
       "interactive(children=(FloatRangeSlider(value=(4.0, 6.0), continuous_update=False, description='[a, b]', max=10.0, step=0.01), FloatSlider(value=1.0, continuous_update=False, description='Maximum height', min=1.0, step=1.0), Output()), _dom_classes=('widget-interact',))"
      ]
     },
     "metadata": {},
     "output_type": "display_data"
    },
    {
     "data": {
      "text/plain": [
       "<function __main__.f>"
      ]
     },
     "execution_count": 2,
     "metadata": {},
     "output_type": "execute_result"
    }
   ],
   "source": [
    "# %load uniform\n",
    "import numpy as np\n",
    "import matplotlib.pyplot as plt\n",
    "import ipywidgets as widgets\n",
    "def f(s, height):\n",
    "    a = s[0]\n",
    "    b = s[1]\n",
    "    x = np.linspace(a,b,11)\n",
    "    if b != a:\n",
    "        y = np.array([1/(b-a)]*11)\n",
    "    xrange = np.linspace(0, 10, 1001)\n",
    "    cdf = []\n",
    "    cdf.extend([0 for z in xrange if z<=a])\n",
    "    cdf.extend([(z-a)/(b-a) for z in xrange if z>a and z<=b])\n",
    "    cdf.extend([1 for z in xrange if z>b])\n",
    "    if b < a + 1/height:\n",
    "        #f = plt.figure()\n",
    "        #ax = f.add_subplot(111)\n",
    "        #plt.gcf().set_size_inches(20,10)\n",
    "        #plt.gca().set_xlim([0, 10])\n",
    "        #plt.gca().set_ylim([0, 2])\n",
    "        #ax.text(0.5, 0.8,'Please choose a and b such that |b - a| > %0.2f' %height, ha='center', va='center', transform=ax.transAxes, fontsize = 40, color = 'r')\n",
    "        if b != a:\n",
    "            plt.plot(x, y, linewidth = 3.0, label = 'PDF')\n",
    "        plt.gcf().set_size_inches(20,10)\n",
    "        plt.gca().set_xlim([0, 10])\n",
    "        plt.gca().set_ylim([0, 1.01*height])\n",
    "        plt.xticks(fontsize = 16)\n",
    "        plt.yticks(fontsize = 16)\n",
    "        if b != a:\n",
    "            plt.plot([a, a], [0, 1/(b-a)], 'g--', linewidth = 2.0)\n",
    "            plt.plot([b, b], [0, 1/(b-a)], 'g--', linewidth = 2.0)\n",
    "        plt.plot([(a + b)/2, (a + b)/2], [0, height,], 'm--', linewidth = 4.0)\n",
    "        plt.plot((a + b)/2, max(height,1), 'm^', markersize = 20)\n",
    "        plt.title('PDF and CDF of U(%0.2f,%0.2f)' %(a,b), fontsize = 20)\n",
    "        plt.xlabel('x', fontsize = 20)\n",
    "        plt.ylabel('y', fontsize = 20)\n",
    "        plt.plot(xrange, cdf, 'r', linewidth = 3.0, label = 'CDF')\n",
    "        plt.legend(fontsize = 20)\n",
    "        plt.plot()\n",
    "    else:\n",
    "        plt.plot(x, y, linewidth = 3.0, label = 'PDF')\n",
    "        plt.gcf().set_size_inches(20,10)\n",
    "        plt.gca().set_xlim([0, 10])\n",
    "        plt.gca().set_ylim([0, 1.01*height])\n",
    "        plt.xticks(fontsize = 16)\n",
    "        plt.yticks(fontsize = 16)\n",
    "        plt.plot([a, a], [0, 1/(b-a)], 'g--', linewidth = 2.0)\n",
    "        plt.plot([b, b], [0, 1/(b-a)], 'g--', linewidth = 2.0)\n",
    "        plt.title('PDF and CDF of U(%0.2f,%0.2f)' %(a,b), fontsize = 20)\n",
    "        plt.xlabel('x', fontsize = 20)\n",
    "        plt.ylabel('y', fontsize = 20)\n",
    "        plt.plot(xrange, cdf, 'r', linewidth = 3.0, label = 'CDF')\n",
    "        plt.legend(fontsize = 20)\n",
    "    plt.show()\n",
    "   # plt.plot(n, sum(abs(y0 - y))/n, 'o')\n",
    "   # plt.show()\n",
    "    \n",
    "w = widgets.FloatRangeSlider(\n",
    "    description = \"[a, b]\",\n",
    "    value=[4, 6],\n",
    "    min=0,\n",
    "    max=10,\n",
    "    step=0.01,\n",
    "    continuous_update = False)\n",
    "widgets.interact(f, s = w, height = widgets.FloatSlider(description = \"Maximum height\", min = 1, max = 100, value = 0.5, step = 1, continuous_update = False))"
   ]
  },
  {
   "cell_type": "markdown",
   "metadata": {},
   "source": [
    "The next code illustrates that the value of the CDF at any point $x_0$ is the area under the PDF over $[-\\infty, x_0]$."
   ]
  },
  {
   "cell_type": "code",
   "execution_count": 3,
   "metadata": {},
   "outputs": [
    {
     "data": {
      "application/vnd.jupyter.widget-view+json": {
       "model_id": "6df43b0d261941e28b071a9a5bb0d965",
       "version_major": 2,
       "version_minor": 0
      },
      "text/html": [
       "<p>Failed to display Jupyter Widget of type <code>interactive</code>.</p>\n",
       "<p>\n",
       "  If you're reading this message in the Jupyter Notebook or JupyterLab Notebook, it may mean\n",
       "  that the widgets JavaScript is still loading. If this message persists, it\n",
       "  likely means that the widgets JavaScript library is either not installed or\n",
       "  not enabled. See the <a href=\"https://ipywidgets.readthedocs.io/en/stable/user_install.html\">Jupyter\n",
       "  Widgets Documentation</a> for setup instructions.\n",
       "</p>\n",
       "<p>\n",
       "  If you're reading this message in another frontend (for example, a static\n",
       "  rendering on GitHub or <a href=\"https://nbviewer.jupyter.org/\">NBViewer</a>),\n",
       "  it may mean that your frontend doesn't currently support widgets.\n",
       "</p>\n"
      ],
      "text/plain": [
       "interactive(children=(FloatSlider(value=0.5, continuous_update=False, description='$x$', max=1.0, step=0.01), Output()), _dom_classes=('widget-interact',))"
      ]
     },
     "metadata": {},
     "output_type": "display_data"
    },
    {
     "data": {
      "text/plain": [
       "<function __main__.f>"
      ]
     },
     "execution_count": 3,
     "metadata": {},
     "output_type": "execute_result"
    }
   ],
   "source": [
    "import numpy as np\n",
    "import matplotlib.pyplot as plt\n",
    "import ipywidgets as widgets\n",
    "\n",
    "def f(x):\n",
    "    x_range = np.linspace(-0.5, 1.5, 201)\n",
    "    x_support = np.linspace(0, 1, 101)\n",
    "    cdf = []\n",
    "    cdf.extend([0 for z in x_range if z<0])\n",
    "    cdf.extend([z for z in x_range if z>=0 and z<=1])\n",
    "    cdf.extend([1 for z in x_range if z>1])\n",
    "    y = np.array([1]*101)\n",
    "    \n",
    "    plt.subplot(2, 1, 1)\n",
    "    plt.plot(x_support, y, 'b', linewidth = 3.0, label = 'PDF')\n",
    "    plt.gcf().set_size_inches(10, 10)\n",
    "    plt.gca().set_xlim([-0.5, 1.5])\n",
    "    plt.gca().set_ylim([0, 1.01])\n",
    "    plt.xticks(fontsize = 16)\n",
    "    plt.yticks(fontsize = 16)\n",
    "    plt.plot([0, 0], [0, 1], 'g--', linewidth = 2.0)\n",
    "    plt.plot([1, 1], [0, 1], 'g--', linewidth = 2.0)\n",
    "    plt.xlabel('x', fontsize = 20)\n",
    "    plt.ylabel('y', fontsize = 20)\n",
    "    plt.legend(fontsize = 20)\n",
    "    plt.gca().fill_between(x_support, y, where = x_support<=x, facecolor='cyan')\n",
    "    plt.gca().spines['right'].set_visible(False)\n",
    "    plt.gca().spines['top'].set_visible(False)\n",
    "    \n",
    "    plt.subplot(2, 1, 2)\n",
    "    plt.gcf().set_size_inches(10, 10)\n",
    "    plt.gca().set_xlim([-0.5, 1.5])\n",
    "    plt.gca().set_ylim([0, 1.01])\n",
    "    plt.xticks(fontsize = 16)\n",
    "    plt.yticks(fontsize = 16)\n",
    "    plt.plot([0, 0], [0, 1], 'g--', linewidth = 2.0)\n",
    "    plt.plot([1, 1], [0, 1], 'g--', linewidth = 2.0)\n",
    "    \n",
    "    plt.xlabel('x', fontsize = 20)\n",
    "    plt.ylabel('y', fontsize = 20)\n",
    "    plt.plot(x_range, cdf, 'r', linewidth = 3.0, label = 'CDF')\n",
    "    plt.plot(x, x, 'bo')\n",
    "    plt.plot([-1, x], [x, x], 'm--', linewidth=2.0)\n",
    "    plt.plot([x, x], [0, x], 'm--', linewidth=2.0)\n",
    "    plt.legend(fontsize = 20)\n",
    "    plt.gca().spines['right'].set_visible(False)\n",
    "    plt.gca().spines['top'].set_visible(False)\n",
    "    plt.savefig('uniform_pdf_shade.png')\n",
    "    plt.show()\n",
    "   # plt.plot(n, sum(abs(y0 - y))/n, 'o')\n",
    "   # plt.show()\n",
    "    \n",
    "widgets.interact(f, x = widgets.FloatSlider(description = \"$x$\", min = 0, max = 1, value = 0.5, step = 0.01, continuous_update = False))"
   ]
  },
  {
   "cell_type": "markdown",
   "metadata": {},
   "source": [
    "### An Example: Buffon's Needle"
   ]
  },
  {
   "cell_type": "markdown",
   "metadata": {},
   "source": [
    "Consider two parallel lines lying on the plane of the floor such that the separation between them (the perpendicular distance) is 1 unit. Without loss of generality, let the lines be given by $y=0$ and $y=1$. Throw a unit-length needle onto the floor in such a way that the $y$-coordinate of its midpoint is uniform over $[0,1]$ and the angle made by the needle with the positive $x$-axis is uniform over $[0, \\pi]$. Then it can be shown that the probability that the needle intersects any of the parallel lines is $2/\\pi$. The code below computes this probability empirically in order to estimate the value of $\\pi$."
   ]
  },
  {
   "cell_type": "code",
   "execution_count": 5,
   "metadata": {},
   "outputs": [
    {
     "name": "stdout",
     "output_type": "stream",
     "text": [
      "The value of pi obtained after 1000 iterations is: \n",
      "3.1496062992125986\n",
      "\n",
      "\n"
     ]
    },
    {
     "data": {
      "image/png": "[encoded data removed]",
      "text/plain": [
       "<matplotlib.figure.Figure at 0x291fcf41ef0>"
      ]
     },
     "metadata": {},
     "output_type": "display_data"
    },
    {
     "data": {
      "application/vnd.jupyter.widget-view+json": {
       "model_id": "764797c5c5114b5a83bad913e949f636",
       "version_major": 2,
       "version_minor": 0
      },
      "text/html": [
       "<p>Failed to display Jupyter Widget of type <code>interactive</code>.</p>\n",
       "<p>\n",
       "  If you're reading this message in the Jupyter Notebook or JupyterLab Notebook, it may mean\n",
       "  that the widgets JavaScript is still loading. If this message persists, it\n",
       "  likely means that the widgets JavaScript library is either not installed or\n",
       "  not enabled. See the <a href=\"https://ipywidgets.readthedocs.io/en/stable/user_install.html\">Jupyter\n",
       "  Widgets Documentation</a> for setup instructions.\n",
       "</p>\n",
       "<p>\n",
       "  If you're reading this message in another frontend (for example, a static\n",
       "  rendering on GitHub or <a href=\"https://nbviewer.jupyter.org/\">NBViewer</a>),\n",
       "  it may mean that your frontend doesn't currently support widgets.\n",
       "</p>\n"
      ],
      "text/plain": [
       "interactive(children=(IntSlider(value=10, continuous_update=False, description='n', max=1000, min=10), Output()), _dom_classes=('widget-interact',))"
      ]
     },
     "metadata": {},
     "output_type": "display_data"
    },
    {
     "data": {
      "text/plain": [
       "<function __main__.f>"
      ]
     },
     "execution_count": 5,
     "metadata": {},
     "output_type": "execute_result"
    }
   ],
   "source": [
    "import matplotlib.pyplot as plt\n",
    "import numpy as np\n",
    "\n",
    "import random\n",
    "import math\n",
    "import ipywidgets as widgets\n",
    "\n",
    "PI = np.pi\n",
    "THETA = np.linspace(0, PI, 1001)\n",
    "H = np.linspace(0, 1, 1001)\n",
    "count = 0                          # To count the number of needles intersecting one \n",
    "                                   # or both of the parallel lines\n",
    "\n",
    "X1 = []\n",
    "X2 = []\n",
    "Y1 = []\n",
    "Y2 = []\n",
    "\n",
    "count = 0\n",
    "for i in range(1, 1001):\n",
    "    H_random = random.choice(H)\n",
    "    Theta = random.choice(THETA)\n",
    "    X1.append(-0.5 * np.cos(Theta))\n",
    "    X2.append(+0.5 * np.cos(Theta))\n",
    "    Y1.append(H_random - 0.5 * np.sin(Theta))\n",
    "    Y2.append(H_random + 0.5 * np.sin(Theta))\n",
    "    if Y1[i - 1] < 0 or Y2[i - 1] > 1:\n",
    "        count += 1\n",
    "print(\"The value of pi obtained after 1000 iterations is: \")\n",
    "print(2000/count)\n",
    "print(\"\\n\")\n",
    "plt.xlabel('x', fontsize=24)\n",
    "plt.ylabel('y', fontsize=24)\n",
    "\n",
    "\n",
    "def f(n):\n",
    "    axes = plt.gca()\n",
    "    fig = plt.gcf()\n",
    "    fig.set_size_inches(20, 10)\n",
    "    plt.plot(range(0, 1000), [0] * 1000, 'k', linewidth=7.0)\n",
    "    plt.plot(range(0, 1000), [1] * 1000, 'k', linewidth=7.0)\n",
    "    for i in range(0, len(X1)):\n",
    "        off = 4 * (i + 1) / n\n",
    "        X1[i] += off\n",
    "        X2[i] += off\n",
    "        plt.plot([X1[i], X2[i]], [Y1[i], Y2[i]], linewidth=3.0)\n",
    "        X1[i] -= off\n",
    "        X2[i] -= off\n",
    "    axes.set_xlim([0, 4])\n",
    "    axes.set_ylim([-0.5, 1.5])\n",
    "    qr = divmod(n, 10)\n",
    "    q = qr[0]\n",
    "    if qr[1] != 0:\n",
    "        n = n + 10 - qr[1]\n",
    "        qr = divmod(n, 10)\n",
    "        q = qr[0]\n",
    "    x_ax = np.arange(0, n + 1, q)\n",
    "    plt.xticks(np.linspace(0, 4, 11), fontsize=20)\n",
    "    axes.set_xticklabels(x_ax)\n",
    "    plt.yticks(fontsize=20)\n",
    "    plt.show()\n",
    "\n",
    "\n",
    "widgets.interact(f, n=widgets.IntSlider(min=10, max=1000, continuous_update=False))"
   ]
  },
  {
   "cell_type": "markdown",
   "metadata": {},
   "source": [
    "### Another way to Determine $\\pi$\n",
    "Consider a square of side-length $2a$. Let a circle of radius $a$ be inscribed in this square. If you pick a point uniformly at random from the square, the probability that the selected point also belongs to the inscribed circle is clearly the ratio of the areas of the circle and the square, which is given by $\\pi a^2/(2a)^2$. This evaluates to $\\pi/4$. The code below estimates the value of $\\pi$ by determining this probability empirically. The number of iterations $n$ can be varied using a slider. Hit the play button to simulate the selection of points and the subsequent calculation of $\\pi$."
   ]
  },
  {
   "cell_type": "code",
   "execution_count": 6,
   "metadata": {},
   "outputs": [
    {
     "data": {
      "application/vnd.jupyter.widget-view+json": {
       "model_id": "aad09254634542b683269a7cc275b3a0",
       "version_major": 2,
       "version_minor": 0
      },
      "text/html": [
       "<p>Failed to display Jupyter Widget of type <code>interactive</code>.</p>\n",
       "<p>\n",
       "  If you're reading this message in the Jupyter Notebook or JupyterLab Notebook, it may mean\n",
       "  that the widgets JavaScript is still loading. If this message persists, it\n",
       "  likely means that the widgets JavaScript library is either not installed or\n",
       "  not enabled. See the <a href=\"https://ipywidgets.readthedocs.io/en/stable/user_install.html\">Jupyter\n",
       "  Widgets Documentation</a> for setup instructions.\n",
       "</p>\n",
       "<p>\n",
       "  If you're reading this message in another frontend (for example, a static\n",
       "  rendering on GitHub or <a href=\"https://nbviewer.jupyter.org/\">NBViewer</a>),\n",
       "  it may mean that your frontend doesn't currently support widgets.\n",
       "</p>\n"
      ],
      "text/plain": [
       "interactive(children=(IntSlider(value=10, description='n', max=10000, min=10, step=10), Output()), _dom_classes=('widget-interact',))"
      ]
     },
     "metadata": {},
     "output_type": "display_data"
    },
    {
     "data": {
      "application/vnd.jupyter.widget-view+json": {
       "model_id": "878f17e4d5a34a49a4bc4442123dee68",
       "version_major": 2,
       "version_minor": 0
      },
      "text/html": [
       "<p>Failed to display Jupyter Widget of type <code>HBox</code>.</p>\n",
       "<p>\n",
       "  If you're reading this message in the Jupyter Notebook or JupyterLab Notebook, it may mean\n",
       "  that the widgets JavaScript is still loading. If this message persists, it\n",
       "  likely means that the widgets JavaScript library is either not installed or\n",
       "  not enabled. See the <a href=\"https://ipywidgets.readthedocs.io/en/stable/user_install.html\">Jupyter\n",
       "  Widgets Documentation</a> for setup instructions.\n",
       "</p>\n",
       "<p>\n",
       "  If you're reading this message in another frontend (for example, a static\n",
       "  rendering on GitHub or <a href=\"https://nbviewer.jupyter.org/\">NBViewer</a>),\n",
       "  it may mean that your frontend doesn't currently support widgets.\n",
       "</p>\n"
      ],
      "text/plain": [
       "HBox(children=(Play(value=10000, description='Press play', interval=20, max=10000, show_repeat=False, step=10), IntSlider(value=10, description='n', max=10000, min=10, step=10)))"
      ]
     },
     "metadata": {},
     "output_type": "display_data"
    }
   ],
   "source": [
    "import matplotlib.pyplot as plt\n",
    "import numpy as np\n",
    "import random\n",
    "import math\n",
    "import ipywidgets as widgets\n",
    "import itertools\n",
    "\n",
    "pi = np.pi\n",
    "x = np.linspace(-1, 1, 1001)\n",
    "x_scatter = []\n",
    "y_scatter = []\n",
    "redx = []\n",
    "redy = []\n",
    "\n",
    "for i in range(1, 10001):\n",
    "    x_rand = random.choice(x)\n",
    "    y_rand = random.choice(x)\n",
    "    x_scatter.append(x_rand)\n",
    "    y_scatter.append(y_rand)\n",
    "    if (x_rand)**2 + (y_rand)**2 <= 1:\n",
    "        redx.append(x_rand)\n",
    "        redy.append(y_rand)\n",
    "    else:\n",
    "        redx.append(-10)\n",
    "        redy.append(-10)\n",
    "Pi_emp = []\n",
    "for i in range(1, 10001):\n",
    "    x_plot = x_scatter[0:i]\n",
    "    y_plot = y_scatter[0:i]\n",
    "    circle = [j for j in range(0, i) if (x_plot[j])**2 + (y_plot[j])**2 <= 1]\n",
    "    Pi_emp.append(4 * len(circle) / i)\n",
    "\n",
    "\n",
    "def f(n):\n",
    "    x_plot = x_scatter[0:n]\n",
    "    y_plot = y_scatter[0:n]\n",
    "    redx_plot = redx[0:n]\n",
    "    redy_plot = redy[0:n]\n",
    "    plt.subplot(1, 2, 1)\n",
    "    plt.plot(x_plot, y_plot, 'g.')\n",
    "    plt.plot(redx_plot, redy_plot, 'r.')\n",
    "    plt.plot([-1, 1], [1, 1], 'k', linewidth=5.0)\n",
    "    plt.plot([-1, 1], [-1, -1], 'k', linewidth=5.0)\n",
    "    plt.plot([-1, -1], [-1, 1], 'k', linewidth=5.0)\n",
    "    plt.plot([1, 1], [-1, 1], 'k', linewidth=5.0)\n",
    "    x = np.linspace(-1, 1, 101)\n",
    "    y = (1 - x * x)**0.5\n",
    "    plt.plot(x, y, 'b', linewidth=5.0)\n",
    "    y = -y\n",
    "    plt.plot(x, y, 'b', linewidth=5.0)\n",
    "    fig = plt.gcf()\n",
    "    fig.set_size_inches(16, 8)\n",
    "    axes = plt.gca()\n",
    "    axes.set_ylim([-1.1, 1.1])\n",
    "    axes.set_xlim([-1.1, 1.1])\n",
    "    plt.subplot(1, 2, 2)\n",
    "    axes = plt.gca()\n",
    "    axes.set_ylim([min(Pi_emp), max(Pi_emp)])\n",
    "    plt.plot(np.arange(1, 10001), [pi] * 10000, 'b', linewidth=3.0)\n",
    "    plt.plot(np.arange(1, 10001), Pi_emp, 'g')\n",
    "    plt.plot(n, Pi_emp[n - 1], 'ro', markersize=7)\n",
    "    plt.show()\n",
    "    print(Pi_emp[n - 1])\n",
    "\n",
    "\n",
    "#interact(f, n = widgets.IntSlider(min = 10, max = 10000))\n",
    "play = widgets.Play(\n",
    "    interval=20,\n",
    "    value=10000,\n",
    "    #min=10,\n",
    "    max=10000,\n",
    "    step=10,\n",
    "    description=\"Press play\",\n",
    "    disabled=False,\n",
    "    show_repeat=False)\n",
    "slider = widgets.IntSlider(min=10, max=10000, step=10)\n",
    "widgets.jslink((play, 'value'), (slider, 'value'))\n",
    "widgets.interact(\n",
    "    f,\n",
    "    n=slider, )\n",
    "widgets.HBox([play, slider])\n"
   ]
  },
  {
   "cell_type": "markdown",
   "metadata": {},
   "source": [
    "## Exponential Distribution\n",
    "\n",
    "### PDF and CDF\n",
    "\n",
    "The code below plots the PDF and the CDF of the exponential distribution with parametere $\\lambda$. You can use interactive sliders to vary the value of $\\lambda$ over $[0.01, 10]$. You can also vary the ranges of the coordinate axes in order to change the portion of the curves displayed."
   ]
  },
  {
   "cell_type": "code",
   "execution_count": 9,
   "metadata": {},
   "outputs": [
    {
     "data": {
      "application/vnd.jupyter.widget-view+json": {
       "model_id": "f71f0b83a3a04127bb3b3176476404de",
       "version_major": 2,
       "version_minor": 0
      },
      "text/html": [
       "<p>Failed to display Jupyter Widget of type <code>interactive</code>.</p>\n",
       "<p>\n",
       "  If you're reading this message in the Jupyter Notebook or JupyterLab Notebook, it may mean\n",
       "  that the widgets JavaScript is still loading. If this message persists, it\n",
       "  likely means that the widgets JavaScript library is either not installed or\n",
       "  not enabled. See the <a href=\"https://ipywidgets.readthedocs.io/en/stable/user_install.html\">Jupyter\n",
       "  Widgets Documentation</a> for setup instructions.\n",
       "</p>\n",
       "<p>\n",
       "  If you're reading this message in another frontend (for example, a static\n",
       "  rendering on GitHub or <a href=\"https://nbviewer.jupyter.org/\">NBViewer</a>),\n",
       "  it may mean that your frontend doesn't currently support widgets.\n",
       "</p>\n"
      ],
      "text/plain": [
       "interactive(children=(FloatSlider(value=0.5, description='$\\\\lambda$', max=10.0, min=0.01, step=0.01), FloatSlider(value=10.0, description='$x_{\\\\max}$', max=1000.0, min=1.0, step=1.0), FloatSlider(value=1.0, description='$y_{\\\\max}$', max=10.0, min=0.1), ToggleButton(value=False, description='CDF'), Output()), _dom_classes=('widget-interact',))"
      ]
     },
     "metadata": {},
     "output_type": "display_data"
    },
    {
     "data": {
      "text/plain": [
       "<function __main__.f>"
      ]
     },
     "execution_count": 9,
     "metadata": {},
     "output_type": "execute_result"
    }
   ],
   "source": [
    "import numpy as np\n",
    "import matplotlib.pyplot as plt\n",
    "import ipywidgets as widgets\n",
    "import warnings\n",
    "warnings.filterwarnings(\"ignore\")\n",
    "def f(lam, x_max, y_max, CDF):\n",
    "    x = np.arange(0, x_max, x_max/1000)\n",
    "    y = lam*np.exp(-lam*x)\n",
    "    z = 1 - np.exp(-lam*x)\n",
    "    plt.plot(x, y, linewidth = 3.0, label = 'PDF')\n",
    "    if CDF == True:\n",
    "        plt.plot(x, z, 'r', linewidth = 3.0, label = 'CDF')\n",
    "    plt.title(\"Exponential(%.2f)\" %lam, fontsize = 20)\n",
    "    plt.gcf().set_size_inches(20,10)\n",
    "    plt.xlabel('x', fontsize = 20)\n",
    "    plt.ylabel('y', fontsize = 20)\n",
    "    plt.xticks(fontsize = 16)\n",
    "    plt.yticks(fontsize = 16)\n",
    "    plt.gca().set_xlim([0,x_max])\n",
    "    plt.gca().set_ylim([0,y_max])\n",
    "    plt.legend(fontsize = 18)\n",
    "    plt.show()\n",
    "widgets.interact(f, lam=widgets.FloatSlider(description = '$\\lambda$', min=0.01, max=10, step=0.01, value=0.5), x_max=widgets.FloatSlider(description = '$x_{\\max}$', min=1, max=1000, step=1, value=10), y_max=widgets.FloatSlider(description = '$y_{\\max}$', min=0.1, max=10, step=0.1, value=1), CDF = widgets.ToggleButton(value = False))"
   ]
  },
  {
   "cell_type": "markdown",
   "metadata": {},
   "source": [
    "### Exponential Approximation of the Geometric Distribution\n",
    "The code below illustrates that for small $p$, the exponential distribution with paramater $\\lambda=p$ is a good approximation to the geometric distribution with parameter $p$. Observe that the $L_1$ distance between the two distributions increases with $p$."
   ]
  },
  {
   "cell_type": "code",
   "execution_count": 10,
   "metadata": {},
   "outputs": [
    {
     "data": {
      "application/vnd.jupyter.widget-view+json": {
       "model_id": "56d3a4d6e06048e6a7804595c89bd4df",
       "version_major": 2,
       "version_minor": 0
      },
      "text/html": [
       "<p>Failed to display Jupyter Widget of type <code>interactive</code>.</p>\n",
       "<p>\n",
       "  If you're reading this message in the Jupyter Notebook or JupyterLab Notebook, it may mean\n",
       "  that the widgets JavaScript is still loading. If this message persists, it\n",
       "  likely means that the widgets JavaScript library is either not installed or\n",
       "  not enabled. See the <a href=\"https://ipywidgets.readthedocs.io/en/stable/user_install.html\">Jupyter\n",
       "  Widgets Documentation</a> for setup instructions.\n",
       "</p>\n",
       "<p>\n",
       "  If you're reading this message in another frontend (for example, a static\n",
       "  rendering on GitHub or <a href=\"https://nbviewer.jupyter.org/\">NBViewer</a>),\n",
       "  it may mean that your frontend doesn't currently support widgets.\n",
       "</p>\n"
      ],
      "text/plain": [
       "interactive(children=(IntSlider(value=10, description='n', max=1000, min=2), FloatSlider(value=0.5, description='p', max=1.0, step=0.01), Output()), _dom_classes=('widget-interact',))"
      ]
     },
     "metadata": {},
     "output_type": "display_data"
    },
    {
     "data": {
      "text/plain": [
       "<function __main__.exponential_approx>"
      ]
     },
     "execution_count": 10,
     "metadata": {},
     "output_type": "execute_result"
    }
   ],
   "source": [
    "import numpy as np\n",
    "import matplotlib.pyplot as plt\n",
    "\n",
    "from scipy.stats import binom\n",
    "import ipywidgets as widgets\n",
    "\n",
    "import warnings\n",
    "warnings.filterwarnings(\"ignore\")\n",
    "\n",
    "def exponential_approx(n, p):\n",
    "    '''\n",
    "    Approximate the PMF of the geometric distribution with the \n",
    "    PDF of the exponential distribution.\n",
    "    '''\n",
    "    x = np.arange(1, n+1)\n",
    "    y = [((1-p)**(z-1))*p for z in x]\n",
    "    lam = p\n",
    "    x0 = np.arange(1, n+1, 1.0*n/1000)\n",
    "    y0 = lam*np.exp(-lam*x0)\n",
    "    plt.plot(x0, y0, label = 'Exponential(%0.2f)' %lam)\n",
    "    plt.plot(x, y, 'r', label = 'Geometric(%0.2f)' %p)\n",
    "    plt.legend(fontsize = 20)\n",
    "    plt.title(\"Exponential Approximation of Geometric(%.2f)\" %p, fontsize = 20)\n",
    "    plt.gcf().set_size_inches(20,10)\n",
    "    axes = plt.gca().set_xlim([1,n])\n",
    "    plt.xlabel('x', fontsize = 20)\n",
    "    plt.ylabel('y', fontsize = 20)\n",
    "    plt.xticks(fontsize = 16)\n",
    "    plt.yticks(fontsize = 16)\n",
    "    plt.show()\n",
    "    x0 = np.arange(1, n+1)\n",
    "    y0 = lam*np.exp(-lam*x0)\n",
    "    print(\"\")\n",
    "    print('|| P_Exponential - P_Geometric ||\\u2081 = ',sum(abs(y-y0)))\n",
    "    print(\"\")\n",
    "    print(\"\")\n",
    "    \n",
    "widgets.interact(exponential_approx, p=widgets.FloatSlider(min=0, max=1, step=0.01, value=0.5), n=widgets.IntSlider(min=2, max=1000, step=1, value=10))"
   ]
  },
  {
   "cell_type": "markdown",
   "metadata": {},
   "source": [
    "## Normal Distribution\n",
    "\n",
    "### PDF and CDF\n",
    "The code below plots the PDF and CDF of $N(\\mu,\\sigma^2)$. Use the interactive sliders available to vary the mean and the variance of the distribution as well as the ranges of the coordinate axes."
   ]
  },
  {
   "cell_type": "code",
   "execution_count": 11,
   "metadata": {},
   "outputs": [
    {
     "data": {
      "application/vnd.jupyter.widget-view+json": {
       "model_id": "a8c749b3985842c0a24e8ed82df73c23",
       "version_major": 2,
       "version_minor": 0
      },
      "text/html": [
       "<p>Failed to display Jupyter Widget of type <code>interactive</code>.</p>\n",
       "<p>\n",
       "  If you're reading this message in the Jupyter Notebook or JupyterLab Notebook, it may mean\n",
       "  that the widgets JavaScript is still loading. If this message persists, it\n",
       "  likely means that the widgets JavaScript library is either not installed or\n",
       "  not enabled. See the <a href=\"https://ipywidgets.readthedocs.io/en/stable/user_install.html\">Jupyter\n",
       "  Widgets Documentation</a> for setup instructions.\n",
       "</p>\n",
       "<p>\n",
       "  If you're reading this message in another frontend (for example, a static\n",
       "  rendering on GitHub or <a href=\"https://nbviewer.jupyter.org/\">NBViewer</a>),\n",
       "  it may mean that your frontend doesn't currently support widgets.\n",
       "</p>\n"
      ],
      "text/plain": [
       "interactive(children=(FloatSlider(value=0.0, continuous_update=False, description='$\\\\mu$', max=50.0, min=-50.0), FloatSlider(value=1.0, continuous_update=False, description='$\\\\sigma^2$', max=30.0, min=0.5), IntRangeSlider(value=(-25, 25), continuous_update=False, description='$[x_{min},  x_{max}]$', min=-100), FloatSlider(value=0.5, continuous_update=False, description='$y_{max}$', max=1.0, min=0.1), ToggleButton(value=False, description='CDF'), Output()), _dom_classes=('widget-interact',))"
      ]
     },
     "metadata": {},
     "output_type": "display_data"
    },
    {
     "data": {
      "text/plain": [
       "<function __main__.plot_pdf>"
      ]
     },
     "execution_count": 11,
     "metadata": {},
     "output_type": "execute_result"
    }
   ],
   "source": [
    "# Plots pdf of a normal distribution\n",
    "\n",
    "import numpy as np\n",
    "import matplotlib.pyplot as plt\n",
    "import ipywidgets as widgets\n",
    "\n",
    "from scipy.stats import norm\n",
    "\n",
    "e = np.e\n",
    "pi = np.pi\n",
    "\n",
    "def plot_pdf(mu, var, x_range, y_max, CDF):\n",
    "    '''\n",
    "    Takes mean, variance, range of x and y axes, and whether CDF desired.\n",
    "    Plots PDF, and optionally CDF.\n",
    "    '''\n",
    "    x_min = x_range[0]\n",
    "    x_max = x_range[1]\n",
    "    x = np.linspace(-100, 100, 10001)\n",
    "    sig = var**0.5\n",
    "    P_norm = norm.pdf(x, mu, sig)\n",
    "    fig = plt.gcf()\n",
    "    fig.set_size_inches(16,8)\n",
    "    plt.plot(x, P_norm, 'b', linewidth=3.0, label = \"PDF\")\n",
    "    if CDF == True:\n",
    "        CDF_norm = norm.cdf(x, mu, sig)\n",
    "        plt.plot(x, CDF_norm, 'r', linewidth=3.0, label = \"CDF\")\n",
    "    y0 = (1/(sig*np.sqrt(2*pi)))*np.exp(-0.5)\n",
    "    ym = 1/(sig*np.sqrt(2*pi))\n",
    "    plt.plot([mu-sig, mu-sig], [0, y0], 'm--', linewidth = 2.0, label = '$\\mu\\pm\\sigma$')\n",
    "    plt.plot([mu+sig, mu+sig], [0, y0], 'm--', linewidth = 2.0)\n",
    "    plt.plot([mu,mu], [0,ym], 'g--', linewidth = 2.0, label = r'$\\mu$')\n",
    "    plt.legend(fontsize = 20)\n",
    "    axes = plt.gca()\n",
    "   # w = e**α\n",
    "    axes.set_xlim([x_min, x_max])\n",
    "    axes.set_ylim([0,y_max])\n",
    "    plt.title('PDF of N(%0.2f, %0.2f), %0.2f < x < %0.2f' %(mu,var,x_min,x_max), fontsize = 20)\n",
    "    #plt.xlabel('Number of Successes')\n",
    "    #plt.ylabel('Probability of Successes')\n",
    "    #print('                   [%0.0f, %0.0f]' %(x_min, x_max))\n",
    "    plt.xticks(fontsize = 16)\n",
    "    plt.yticks(fontsize = 16)\n",
    "    plt.xlabel('x', fontsize = 20)\n",
    "    plt.ylabel('y', fontsize = 20)\n",
    "    plt.show()\n",
    "a = np.linspace(0, 5, 1001)\n",
    "rng = e**a\n",
    "widgets.interact(plot_pdf, mu=widgets.FloatSlider(description = '$\\mu$', min=-50, max=50, step=0.1, value=0, continuous_update = False), var=widgets.FloatSlider(description = '$\\sigma^2$', min=0.5, max=30, step=0.1, value=1, continuous_update = False), x_range = widgets.IntRangeSlider(description = \"$[x_{min},  x_{max}]$\",\n",
    "    value=[-25, 25],\n",
    "    min=-100,\n",
    "    max=100,\n",
    "    step=1, continuous_update = False), y_max=widgets.FloatSlider(description = '$y_{max}$', min=0.1, max=1, step=0.1, value=0.5, continuous_update = False), CDF = widgets.ToggleButton(value = False))\n",
    "         \n",
    "         #α = widgets.FloatSlider(description = \"Range\", min=0,max=5,step=0.01,value = 1.5, readout=False, continuous_update = False))\n"
   ]
  },
  {
   "cell_type": "markdown",
   "metadata": {},
   "source": [
    "### Normal Approximation of the Binomial Distribution\n",
    "The code below illustrates that for large $n$, the distribution $N\\left(np, np(1-p)\\right)$ is a good approximation to $Binomial(n,p)$. Observe that the $L_1$ distance between the two distributions decreases with $n$."
   ]
  },
  {
   "cell_type": "code",
   "execution_count": 12,
   "metadata": {},
   "outputs": [
    {
     "data": {
      "application/vnd.jupyter.widget-view+json": {
       "model_id": "e375033187b84543bf979ce9fc399ca3",
       "version_major": 2,
       "version_minor": 0
      },
      "text/html": [
       "<p>Failed to display Jupyter Widget of type <code>interactive</code>.</p>\n",
       "<p>\n",
       "  If you're reading this message in the Jupyter Notebook or JupyterLab Notebook, it may mean\n",
       "  that the widgets JavaScript is still loading. If this message persists, it\n",
       "  likely means that the widgets JavaScript library is either not installed or\n",
       "  not enabled. See the <a href=\"https://ipywidgets.readthedocs.io/en/stable/user_install.html\">Jupyter\n",
       "  Widgets Documentation</a> for setup instructions.\n",
       "</p>\n",
       "<p>\n",
       "  If you're reading this message in another frontend (for example, a static\n",
       "  rendering on GitHub or <a href=\"https://nbviewer.jupyter.org/\">NBViewer</a>),\n",
       "  it may mean that your frontend doesn't currently support widgets.\n",
       "</p>\n"
      ],
      "text/plain": [
       "interactive(children=(IntSlider(value=30, continuous_update=False, description='n', max=2000, min=1), FloatSlider(value=0.5, continuous_update=False, description='p', max=1.0, step=0.01), FloatRangeSlider(value=(0.0, 30.0), description='[a, b]', max=2000.0, readout=False, step=1.0), Output()), _dom_classes=('widget-interact',))"
      ]
     },
     "metadata": {},
     "output_type": "display_data"
    },
    {
     "data": {
      "text/plain": [
       "<function __main__.f>"
      ]
     },
     "execution_count": 12,
     "metadata": {},
     "output_type": "execute_result"
    }
   ],
   "source": [
    "import numpy as np\n",
    "import matplotlib.pyplot as plt\n",
    "from scipy.stats import binom, norm\n",
    "import ipywidgets as widgets\n",
    "import warnings\n",
    "warnings.filterwarnings(\"ignore\")\n",
    "e = np.e\n",
    "\n",
    "\n",
    "def f(n, p, x_range):\n",
    "    x_min = x_range[0]\n",
    "    x_max = x_range[1]\n",
    "    k = np.arange(0, n + 1)\n",
    "    x = np.linspace(0, n + 1, 1001)\n",
    "    P_binom = binom.pmf(k, n, p)\n",
    "    stddev = (n * p * (1 - p))**0.5\n",
    "    P_norm = norm.pdf(x, n * p, stddev)\n",
    "    fig = plt.gcf()\n",
    "    fig.set_size_inches(20, 10)\n",
    "    plt.plot(\n",
    "        x,\n",
    "        P_norm,\n",
    "        'r',\n",
    "        linewidth=2.0,\n",
    "        label=\"N(%0.2f, %0.2f)\" % (n * p, stddev**2))\n",
    "    plt.plot(k, P_binom, '-', linewidth=2.0, label=\"Bin(%i, %0.2f)\" % (n, p))\n",
    "    plt.legend(fontsize=20)\n",
    "    axes = plt.gca()\n",
    "    axes.set_xlim([x_min, x_max])\n",
    "    axes.set_ylim([0, 1.02 * max(max(P_binom), max(P_norm))])\n",
    "    plt.title(\n",
    "        'Normal Approximation of Binomial, %0.2f < x < %0.2f' % (x_min, x_max),\n",
    "        fontsize=20)\n",
    "    plt.xlabel('x', fontsize=20)\n",
    "    plt.ylabel('y', fontsize=20)\n",
    "    plt.xticks(fontsize=16)\n",
    "    plt.yticks(fontsize=16)\n",
    "    print('                   [%0.0f, %0.0f]' % (x_min, x_max))\n",
    "    plt.show()\n",
    "    x = np.linspace(0, n + 1, n + 1)\n",
    "    P_norm = norm.pdf(x, n * p, stddev)\n",
    "    print(\"\")\n",
    "    print('|| P_Normal - P_Binomial ||\\u2081 = ', sum(abs(P_norm - P_binom)))\n",
    "    print(\"\")\n",
    "    print(\"\")\n",
    "\n",
    "\n",
    "a = np.linspace(0, 5, 1001)\n",
    "rng = e**a\n",
    "widgets.interact(\n",
    "    f,\n",
    "    n=widgets.IntSlider(\n",
    "        min=1, max=2000, step=1, value=30, continuous_update=False),\n",
    "    p=widgets.FloatSlider(\n",
    "        min=0, max=1, step=0.01, value=0.5, continuous_update=False),\n",
    "    x_range=widgets.FloatRangeSlider(\n",
    "        description=\"[a, b]\",\n",
    "        value=[0, 30],\n",
    "        min=0,\n",
    "        max=2000,\n",
    "        step=1,\n",
    "        readout=False))\n"
   ]
  },
  {
   "cell_type": "code",
   "execution_count": null,
   "metadata": {},
   "outputs": [],
   "source": []
  }
 ],
 "metadata": {
  "kernelspec": {
   "display_name": "Python 3",
   "language": "python",
   "name": "python3"
  },
  "language_info": {
   "codemirror_mode": {
    "name": "ipython",
    "version": 3
   },
   "file_extension": ".py",
   "mimetype": "text/x-python",
   "name": "python",
   "nbconvert_exporter": "python",
   "pygments_lexer": "ipython3",
   "version": "3.6.4"
  },
  "toc": {
   "base_numbering": 1,
   "nav_menu": {},
   "number_sections": true,
   "sideBar": true,
   "skip_h1_title": false,
   "title_cell": "Table of Contents",
   "title_sidebar": "Contents",
   "toc_cell": false,
   "toc_position": {},
   "toc_section_display": "block",
   "toc_window_display": false
  },
  "varInspector": {
   "cols": {
    "lenName": 16,
    "lenType": 16,
    "lenVar": 40
   },
   "kernels_config": {
    "python": {
     "delete_cmd_postfix": "",
     "delete_cmd_prefix": "del ",
     "library": "var_list.py",
     "varRefreshCmd": "print(var_dic_list())"
    },
    "r": {
     "delete_cmd_postfix": ") ",
     "delete_cmd_prefix": "rm(",
     "library": "var_list.r",
     "varRefreshCmd": "cat(var_dic_list()) "
    }
   },
   "types_to_exclude": [
    "module",
    "function",
    "builtin_function_or_method",
    "instance",
    "_Feature"
   ],
   "window_display": false
  },
  "widgets": {
   "state": {
    "06342787fc83420090517274b05d5fba": {
     "views": [
      {
       "cell_index": 17
      }
     ]
    },
    "10b7cb93e49f43d08c451a6a73d34842": {
     "views": [
      {
       "cell_index": 9
      }
     ]
    },
    "19687c7227974da39b419fd16e784c40": {
     "views": [
      {
       "cell_index": 4
      }
     ]
    },
    "477809c81aed4541adcd72d5114e8618": {
     "views": [
      {
       "cell_index": 15
      }
     ]
    },
    "5724c25ac8f741e8b9ac510596c7eeab": {
     "views": [
      {
       "cell_index": 1
      }
     ]
    },
    "6ca6f5f6d25440b8a6af5b6a5aa3147f": {
     "views": [
      {
       "cell_index": 11
      }
     ]
    },
    "8ad0554813334456a86b755833044bc2": {
     "views": [
      {
       "cell_index": 19
      }
     ]
    },
    "ad67784fca70431ca34d4f814ad20c43": {
     "views": [
      {
       "cell_index": 13
      }
     ]
    },
    "d875e7204fe84a69a391b922d0e0b42c": {
     "views": [
      {
       "cell_index": 11
      }
     ]
    },
    "de83bddf07ae4ec795ad20d93d088a90": {
     "views": [
      {
       "cell_index": 11
      }
     ]
    },
    "f997078b84384a68a0bb56b5e6dfa5f9": {
     "views": [
      {
       "cell_index": 6
      }
     ]
    }
   },
   "version": "1.2.0"
  }
 },
 "nbformat": 4,
 "nbformat_minor": 2
}
